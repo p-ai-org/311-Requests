{
 "cells": [
  {
   "cell_type": "code",
   "execution_count": 2,
   "metadata": {},
   "outputs": [
    {
     "name": "stderr",
     "output_type": "stream",
     "text": [
      "Using TensorFlow backend.\n"
     ]
    }
   ],
   "source": [
    "import pandas as pd\n",
    "import numpy as np \n",
    "from sklearn.preprocessing import LabelEncoder\n",
    "le = LabelEncoder()\n",
    "from sklearn.preprocessing import OneHotEncoder\n",
    "from sklearn.model_selection import train_test_split\n",
    "from sklearn import metrics\n",
    "from datetime import datetime\n",
    "from sklearn.naive_bayes import GaussianNB\n",
    "from sklearn import tree\n",
    "from sklearn.ensemble import RandomForestClassifier\n",
    "from sklearn.ensemble import ExtraTreesClassifier\n",
    "from sklearn.linear_model import LogisticRegression\n",
    "from sklearn.ensemble import AdaBoostClassifier\n",
    "from sklearn.ensemble import GradientBoostingClassifier\n",
    "from sklearn.neighbors import KNeighborsClassifier\n",
    "from sklearn import svm\n",
    "from imblearn.over_sampling import SMOTE, ADASYN\n",
    "sm = SMOTE(random_state = 2)\n",
    "ada = ADASYN(random_state = 42, sampling_strategy='minority')\n",
    "import tensorflow as tf\n",
    "from keras.models import Sequential\n",
    "from keras.layers import Dense\n",
    "import matplotlib.pyplot as plt\n",
    "%matplotlib inline\n",
    "import seaborn as sns"
   ]
  },
  {
   "cell_type": "code",
   "execution_count": 3,
   "metadata": {},
   "outputs": [],
   "source": [
    "def g11(val): \n",
    "    \"\"\"\n",
    "    Records whether or not a number is greater than 11. \n",
    "    \"\"\"\n",
    "    if val <= 11: \n",
    "        return 0\n",
    "    else: \n",
    "        return 1"
   ]
  },
  {
   "cell_type": "code",
   "execution_count": 4,
   "metadata": {},
   "outputs": [
    {
     "name": "stderr",
     "output_type": "stream",
     "text": [
      "/Users/varunbopardikar/anaconda3/lib/python3.7/site-packages/IPython/core/interactiveshell.py:3057: DtypeWarning: Columns (10,33) have mixed types. Specify dtype option on import or set low_memory=False.\n",
      "  interactivity=interactivity, compiler=compiler, result=result)\n"
     ]
    }
   ],
   "source": [
    "df = pd.read_csv('fservice.csv')\n",
    "df['Eleven'] = df['ElapsedDays'].apply(g11, 0)\n",
    "\n",
    "values = {'MobileOS': \"NotMobile\", 'CreatedByUserOrganization': 'NotSpecified'}\n",
    "\n",
    "df = df.fillna(value=values)"
   ]
  },
  {
   "cell_type": "code",
   "execution_count": 5,
   "metadata": {},
   "outputs": [],
   "source": [
    "df['Just Date'] = df['Just Date'].apply(lambda x: datetime.strptime(x,'%Y-%m-%d'))"
   ]
  },
  {
   "cell_type": "code",
   "execution_count": 6,
   "metadata": {},
   "outputs": [],
   "source": [
    "df['day_of_week'] = df['Just Date'].dt.day_name()"
   ]
  },
  {
   "cell_type": "code",
   "execution_count": 7,
   "metadata": {},
   "outputs": [],
   "source": [
    "df['Month'] = df['Just Date'].dt.month_name()"
   ]
  },
  {
   "cell_type": "code",
   "execution_count": 11,
   "metadata": {},
   "outputs": [],
   "source": [
    "#Columns \n",
    "\n",
    "#c = ['Anonymous','CreatedByUserOrganization', 'RequestType','MobileOS','RequestSource', 'Month'] #BEST\n",
    "\n",
    "c = ['Anonymous','CreatedByUserOrganization', 'RequestType','MobileOS','RequestSource', 'Month']\n",
    "\n",
    "\n",
    "n = ['Latitude', 'Longitude']"
   ]
  },
  {
   "cell_type": "code",
   "execution_count": 12,
   "metadata": {},
   "outputs": [],
   "source": [
    "dfm = df[df['Eleven'] == 1]"
   ]
  },
  {
   "cell_type": "code",
   "execution_count": 13,
   "metadata": {},
   "outputs": [],
   "source": [
    "dfl = df[df['Eleven'] == 0].sample(dfm.shape[0])"
   ]
  },
  {
   "cell_type": "code",
   "execution_count": 14,
   "metadata": {},
   "outputs": [],
   "source": [
    "dfn = dfl.append(dfm)\n",
    "dfn = dfn.filter(items = c + n  + ['Eleven'])\n",
    "dfn = dfn.dropna()"
   ]
  },
  {
   "cell_type": "code",
   "execution_count": 16,
   "metadata": {},
   "outputs": [],
   "source": [
    "#Separate data into explanatory and response variables\n",
    "XCAT = dfn.filter(items = c).values\n",
    "XNUM = dfn.filter(items = n).values\n",
    "\n",
    "y = np.array(dfn['Eleven'].values, dtype=np.float)\n",
    "\n",
    "#Encode cateogrical data and merge with numerical data\n",
    "labelencoder_X = LabelEncoder()\n",
    "for num in range(len(c)):\n",
    "    XCAT[:, num] = labelencoder_X.fit_transform(XCAT[:, num])\n",
    "\n",
    "onehotencoder = OneHotEncoder()\n",
    "XCAT = onehotencoder.fit_transform(XCAT).toarray()\n",
    "\n",
    "X = np.concatenate((XCAT, XNUM), axis=1)"
   ]
  },
  {
   "cell_type": "code",
   "execution_count": 23,
   "metadata": {
    "scrolled": true
   },
   "outputs": [
    {
     "data": {
      "text/plain": [
       "array(['Graffiti Removal', 'Bulky Items', 'Metal/Household Appliances',\n",
       "       'Dead Animal Removal', 'Multiple Streetlight Issue',\n",
       "       'Illegal Dumping Pickup', 'Electronic Waste',\n",
       "       'Homeless Encampment', 'Other', 'Single Streetlight Issue',\n",
       "       'Report Water Waste', 'Feedback'], dtype=object)"
      ]
     },
     "execution_count": 23,
     "metadata": {},
     "output_type": "execute_result"
    }
   ],
   "source": [
    "dfn['RequestType'].unique()"
   ]
  },
  {
   "cell_type": "code",
   "execution_count": 434,
   "metadata": {},
   "outputs": [
    {
     "name": "stdout",
     "output_type": "stream",
     "text": [
      "Test Set Results\n",
      "              precision    recall  f1-score   support\n",
      "\n",
      "         0.0      0.842     0.834     0.838     31526\n",
      "         1.0      0.845     0.852     0.848     33331\n",
      "\n",
      "    accuracy                          0.843     64857\n",
      "   macro avg      0.843     0.843     0.843     64857\n",
      "weighted avg      0.843     0.843     0.843     64857\n",
      "\n"
     ]
    }
   ],
   "source": [
    "#Split data \n",
    "\n",
    "X_train, X_test, y_train, y_test = train_test_split(X, y, test_size = 0.2, random_state = 0)\n",
    "\n",
    "rf = RandomForestClassifier(n_estimators = 50, max_depth = 20)  #Current best\n",
    "et = ExtraTreesClassifier(n_estimators=10, max_depth=20, min_samples_split=2, random_state=0)\n",
    "ab = AdaBoostClassifier(n_estimators=50)\n",
    "gb = GradientBoostingClassifier(n_estimators=50, learning_rate=1.0, max_depth=20, random_state=0)\n",
    "\n",
    "\n",
    "classifier = rf\n",
    "classifier.fit(X_train, y_train)\n",
    "\n",
    "\n",
    "##TEST SET##\n",
    "y_tpred = classifier.predict(X_test)\n",
    "\n",
    "#Print Test results\n",
    "print(\"Test Set Results\")\n",
    "print(metrics.classification_report(y_test, y_tpred, digits=3))"
   ]
  },
  {
   "cell_type": "code",
   "execution_count": 317,
   "metadata": {},
   "outputs": [
    {
     "data": {
      "text/plain": [
       "Index(['APC', 'ActionTaken', 'Address', 'AddressVerified', 'Anonymous',\n",
       "       'ApproximateAddress', 'AssignTo', 'CD', 'CDMember', 'ClosedDate',\n",
       "       'CreatedByUserOrganization', 'CreatedDate', 'Direction', 'HouseNumber',\n",
       "       'Latitude', 'Location', 'Longitude', 'MobileOS', 'NC', 'NCName',\n",
       "       'Owner', 'PolicePrecinct', 'RequestSource', 'RequestType', 'SRNumber',\n",
       "       'ServiceDate', 'Status', 'StreetName', 'Suffix', 'TBMColumn', 'TBMPage',\n",
       "       'TBMRow', 'UpdatedDate', 'ZipCode', 'ElapsedTime', 'ElapsedDays',\n",
       "       'Just Date', 'Eleven', 'day_of_week', 'Month'],\n",
       "      dtype='object')"
      ]
     },
     "execution_count": 317,
     "metadata": {},
     "output_type": "execute_result"
    }
   ],
   "source": [
    "df.columns"
   ]
  },
  {
   "cell_type": "code",
   "execution_count": 25,
   "metadata": {},
   "outputs": [],
   "source": [
    "dfa = dfl.append(dfm)"
   ]
  },
  {
   "cell_type": "code",
   "execution_count": 26,
   "metadata": {},
   "outputs": [
    {
     "data": {
      "text/plain": [
       "1    10658\n",
       "0     5596\n",
       "Name: Eleven, dtype: int64"
      ]
     },
     "execution_count": 26,
     "metadata": {},
     "output_type": "execute_result"
    }
   ],
   "source": [
    "dfa[dfa['CreatedByUserOrganization'] == \"ITA\"]['Eleven'].value_counts()"
   ]
  },
  {
   "cell_type": "code",
   "execution_count": 27,
   "metadata": {},
   "outputs": [
    {
     "data": {
      "text/plain": [
       "array(['NotSpecified', 'BOS', 'Self Service', 'Proactive Insert', 'OCB',\n",
       "       'ITA', 'Self Service_SAN', \"Council's Office\", 'BSS',\n",
       "       'BOS Franchise', 'BSL', 'LAAS'], dtype=object)"
      ]
     },
     "execution_count": 27,
     "metadata": {},
     "output_type": "execute_result"
    }
   ],
   "source": [
    "dfa['CreatedByUserOrganization'].unique()"
   ]
  },
  {
   "cell_type": "code",
   "execution_count": 28,
   "metadata": {},
   "outputs": [],
   "source": [
    "c = ['Anonymous','CreatedByUserOrganization', 'RequestType','MobileOS','RequestSource', 'Month']"
   ]
  }
 ],
 "metadata": {
  "kernelspec": {
   "display_name": "Python 3",
   "language": "python",
   "name": "python3"
  },
  "language_info": {
   "codemirror_mode": {
    "name": "ipython",
    "version": 3
   },
   "file_extension": ".py",
   "mimetype": "text/x-python",
   "name": "python",
   "nbconvert_exporter": "python",
   "pygments_lexer": "ipython3",
   "version": "3.7.3"
  }
 },
 "nbformat": 4,
 "nbformat_minor": 2
}
