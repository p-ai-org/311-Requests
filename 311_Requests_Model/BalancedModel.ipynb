{
 "cells": [
  {
   "cell_type": "code",
   "execution_count": 53,
   "metadata": {},
   "outputs": [],
   "source": [
    "import pandas as pd\n",
    "import numpy as np \n",
    "from sklearn.preprocessing import LabelEncoder\n",
    "le = LabelEncoder()\n",
    "from sklearn.preprocessing import OneHotEncoder\n",
    "from sklearn.model_selection import train_test_split\n",
    "from sklearn import metrics\n",
    "from datetime import datetime\n",
    "from sklearn.naive_bayes import GaussianNB\n",
    "from sklearn import tree\n",
    "from sklearn.ensemble import RandomForestClassifier\n",
    "from sklearn.ensemble import ExtraTreesClassifier\n",
    "from sklearn.linear_model import LogisticRegression\n",
    "from sklearn.ensemble import AdaBoostClassifier\n",
    "from sklearn.ensemble import GradientBoostingClassifier\n",
    "from sklearn.neighbors import KNeighborsClassifier\n",
    "from sklearn import svm\n",
    "from imblearn.over_sampling import SMOTE, ADASYN\n",
    "sm = SMOTE(random_state = 2)\n",
    "ada = ADASYN(random_state = 42, sampling_strategy='minority')\n",
    "import tensorflow as tf\n",
    "#from keras.models import Sequential\n",
    "#from keras.layers import Dense\n",
    "import matplotlib.pyplot as plt\n",
    "%matplotlib inline\n",
    "import seaborn as sns\n",
    "from imblearn.ensemble import BalancedRandomForestClassifier\n",
    "from imblearn.ensemble import BalancedBaggingClassifier"
   ]
  },
  {
   "cell_type": "code",
   "execution_count": 31,
   "metadata": {},
   "outputs": [],
   "source": [
    "def g11(val): \n",
    "    \"\"\"\n",
    "    Records whether or not a number is greater than 11. \n",
    "    \"\"\"\n",
    "    if val <= 11: \n",
    "        return 0\n",
    "    else: \n",
    "        return 1"
   ]
  },
  {
   "cell_type": "code",
   "execution_count": 32,
   "metadata": {},
   "outputs": [
    {
     "name": "stderr",
     "output_type": "stream",
     "text": [
      "/Users/andyhan/miniconda3/lib/python3.7/site-packages/IPython/core/interactiveshell.py:3072: DtypeWarning: Columns (20,33) have mixed types.Specify dtype option on import or set low_memory=False.\n",
      "  interactivity=interactivity, compiler=compiler, result=result)\n"
     ]
    }
   ],
   "source": [
    "df = pd.read_csv('fservice.csv')\n",
    "df['Eleven'] = df['ElapsedDays'].apply(g11, 0)\n",
    "\n",
    "values = {'MobileOS': \"NotMobile\", 'CreatedByUserOrganization': 'NotSpecified'}\n",
    "\n",
    "df = df.fillna(value=values)"
   ]
  },
  {
   "cell_type": "code",
   "execution_count": 33,
   "metadata": {},
   "outputs": [],
   "source": [
    "df['Just Date'] = df['Just Date'].apply(lambda x: datetime.strptime(x,'%Y-%m-%d'))"
   ]
  },
  {
   "cell_type": "code",
   "execution_count": 34,
   "metadata": {},
   "outputs": [],
   "source": [
    "df['day_of_week'] = df['Just Date'].dt.day_name()"
   ]
  },
  {
   "cell_type": "code",
   "execution_count": 35,
   "metadata": {},
   "outputs": [],
   "source": [
    "df['Month'] = df['Just Date'].dt.month_name()"
   ]
  },
  {
   "cell_type": "code",
   "execution_count": 36,
   "metadata": {},
   "outputs": [],
   "source": [
    "#Columns \n",
    "\n",
    "#c = ['Anonymous','CreatedByUserOrganization', 'RequestType','MobileOS','RequestSource', 'Month'] #BEST\n",
    "\n",
    "c = ['Anonymous','CreatedByUserOrganization', 'RequestType','MobileOS','RequestSource', 'Month']\n",
    "\n",
    "\n",
    "n = ['Latitude', 'Longitude']"
   ]
  },
  {
   "cell_type": "code",
   "execution_count": 15,
   "metadata": {},
   "outputs": [],
   "source": [
    "#dfm = df[df['Eleven'] == 1]"
   ]
  },
  {
   "cell_type": "code",
   "execution_count": 16,
   "metadata": {},
   "outputs": [],
   "source": [
    "#dfl = df[df['Eleven'] == 0].sample(dfm.shape[0])"
   ]
  },
  {
   "cell_type": "code",
   "execution_count": 43,
   "metadata": {},
   "outputs": [],
   "source": [
    "#dfn = dfl.append(dfm)\n",
    "dfn = df.filter(items = c + n  + ['Eleven'])\n",
    "dfn = dfn.dropna()"
   ]
  },
  {
   "cell_type": "code",
   "execution_count": 44,
   "metadata": {},
   "outputs": [],
   "source": [
    "#Separate data into explanatory and response variables\n",
    "XCAT = dfn.filter(items = c).values\n",
    "XNUM = dfn.filter(items = n).values\n",
    "\n",
    "y = np.array(dfn['Eleven'].values, dtype=np.float)\n",
    "\n",
    "#Encode cateogrical data and merge with numerical data\n",
    "labelencoder_X = LabelEncoder()\n",
    "for num in range(len(c)):\n",
    "    XCAT[:, num] = labelencoder_X.fit_transform(XCAT[:, num])\n",
    "\n",
    "onehotencoder = OneHotEncoder()\n",
    "XCAT = onehotencoder.fit_transform(XCAT).toarray()\n",
    "\n",
    "X = np.concatenate((XCAT, XNUM), axis=1)"
   ]
  },
  {
   "cell_type": "code",
   "execution_count": 45,
   "metadata": {
    "scrolled": true
   },
   "outputs": [
    {
     "data": {
      "text/plain": [
       "array(['Other', 'Graffiti Removal', 'Bulky Items', 'Dead Animal Removal',\n",
       "       'Metal/Household Appliances', 'Single Streetlight Issue',\n",
       "       'Illegal Dumping Pickup', 'Feedback', 'Multiple Streetlight Issue',\n",
       "       'Report Water Waste', 'Homeless Encampment', 'Electronic Waste'],\n",
       "      dtype=object)"
      ]
     },
     "execution_count": 45,
     "metadata": {},
     "output_type": "execute_result"
    }
   ],
   "source": [
    "dfn['RequestType'].unique()"
   ]
  },
  {
   "cell_type": "code",
   "execution_count": 77,
   "metadata": {},
   "outputs": [],
   "source": [
    "#Split data \n",
    "\n",
    "X_train, X_test, y_train, y_test = train_test_split(X, y, \n",
    "                                                    stratify=y, \n",
    "                                                    test_size=0.2, random_state=0)\n",
    "\n",
    "rf = RandomForestClassifier(n_estimators = 50, max_depth = 20, verbose=2, n_jobs=3)  #Current best\n",
    "et = ExtraTreesClassifier(n_estimators=10, max_depth=20, min_samples_split=2, random_state=0)\n",
    "ab = AdaBoostClassifier(n_estimators=50)\n",
    "gb = GradientBoostingClassifier(n_estimators=50, learning_rate=1.0, max_depth=20, random_state=0)\n",
    "\n",
    "brf = BalancedRandomForestClassifier(n_estimators=50, max_depth=20, random_state=0, verbose=2, n_jobs=3)\n",
    "bbc = BalancedBaggingClassifier(base_estimator=RandomForestClassifier(n_estimators=50, max_depth=20, verbose=2), sampling_strategy='auto', replacement=False, random_state=0, verbose=2, n_jobs=3)"
   ]
  },
  {
   "cell_type": "code",
   "execution_count": 78,
   "metadata": {},
   "outputs": [
    {
     "name": "stderr",
     "output_type": "stream",
     "text": [
      "[Parallel(n_jobs=3)]: Using backend ThreadingBackend with 3 concurrent workers.\n"
     ]
    },
    {
     "name": "stdout",
     "output_type": "stream",
     "text": [
      "building tree 1 of 50\n",
      "building tree 2 of 50\n",
      "building tree 3 of 50\n",
      "building tree 4 of 50\n",
      "building tree 5 of 50\n",
      "building tree 6 of 50\n",
      "building tree 7 of 50\n",
      "building tree 8 of 50\n",
      "building tree 9 of 50\n",
      "building tree 10 of 50\n",
      "building tree 11 of 50\n",
      "building tree 12 of 50\n",
      "building tree 13 of 50\n",
      "building tree 14 of 50\n",
      "building tree 15 of 50\n",
      "building tree 16 of 50\n",
      "building tree 17 of 50\n",
      "building tree 18 of 50\n",
      "building tree 19 of 50\n",
      "building tree 20 of 50\n",
      "building tree 21 of 50\n",
      "building tree 22 of 50\n",
      "building tree 23 of 50\n",
      "building tree 24 of 50\n",
      "building tree 25 of 50\n",
      "building tree 26 of 50\n",
      "building tree 27 of 50\n",
      "building tree 28 of 50\n",
      "building tree 29 of 50\n",
      "building tree 30 of 50\n",
      "building tree 31 of 50\n",
      "building tree 32 of 50\n",
      "building tree 33 of 50\n",
      "building tree 34 of 50\n",
      "building tree 35 of 50\n",
      "building tree 36 of 50\n",
      "building tree 37 of 50\n",
      "building tree 38 of 50\n"
     ]
    },
    {
     "name": "stderr",
     "output_type": "stream",
     "text": [
      "[Parallel(n_jobs=3)]: Done  35 tasks      | elapsed:  2.4min\n"
     ]
    },
    {
     "name": "stdout",
     "output_type": "stream",
     "text": [
      "building tree 39 of 50\n",
      "building tree 40 of 50\n",
      "building tree 41 of 50\n",
      "building tree 42 of 50\n",
      "building tree 43 of 50\n",
      "building tree 44 of 50\n",
      "building tree 45 of 50\n",
      "building tree 46 of 50\n",
      "building tree 47 of 50\n",
      "building tree 48 of 50\n",
      "building tree 49 of 50\n",
      "building tree 50 of 50\n"
     ]
    },
    {
     "name": "stderr",
     "output_type": "stream",
     "text": [
      "[Parallel(n_jobs=3)]: Done  50 out of  50 | elapsed:  3.4min finished\n",
      "[Parallel(n_jobs=3)]: Using backend ThreadingBackend with 3 concurrent workers.\n",
      "[Parallel(n_jobs=3)]: Done  35 tasks      | elapsed:    1.5s\n",
      "[Parallel(n_jobs=3)]: Done  50 out of  50 | elapsed:    2.1s finished\n"
     ]
    },
    {
     "name": "stdout",
     "output_type": "stream",
     "text": [
      "Test Set Results\n",
      "              precision    recall  f1-score   support\n",
      "\n",
      "         0.0      0.964     0.992     0.978    643560\n",
      "         1.0      0.687     0.315     0.432     34882\n",
      "\n",
      "    accuracy                          0.957    678442\n",
      "   macro avg      0.826     0.654     0.705    678442\n",
      "weighted avg      0.950     0.957     0.950    678442\n",
      "\n"
     ]
    }
   ],
   "source": [
    "classifier = rf\n",
    "classifier.fit(X_train, y_train)\n",
    "\n",
    "\n",
    "##TEST SET##\n",
    "y_tpred = classifier.predict(X_test)\n",
    "\n",
    "#Print Test results\n",
    "print(\"Test Set Results\")\n",
    "print(metrics.classification_report(y_test, y_tpred, digits=3))"
   ]
  },
  {
   "cell_type": "code",
   "execution_count": 25,
   "metadata": {},
   "outputs": [
    {
     "data": {
      "text/plain": [
       "Index(['SRNumber', 'CreatedDate', 'UpdatedDate', 'ActionTaken', 'Owner',\n",
       "       'RequestType', 'Status', 'RequestSource', 'MobileOS', 'Anonymous',\n",
       "       'AssignTo', 'ServiceDate', 'ClosedDate', 'AddressVerified',\n",
       "       'ApproximateAddress', 'Address', 'HouseNumber', 'Direction',\n",
       "       'StreetName', 'Suffix', 'ZipCode', 'Latitude', 'Longitude', 'Location',\n",
       "       'TBMPage', 'TBMColumn', 'TBMRow', 'APC', 'CD', 'CDMember', 'NC',\n",
       "       'NCName', 'PolicePrecinct', 'CreatedByUserOrganization', 'ElapsedTime',\n",
       "       'ElapsedDays', 'Just Date', 'Eleven', 'day_of_week', 'Month'],\n",
       "      dtype='object')"
      ]
     },
     "execution_count": 25,
     "metadata": {},
     "output_type": "execute_result"
    }
   ],
   "source": [
    "df.columns"
   ]
  },
  {
   "cell_type": "code",
   "execution_count": 26,
   "metadata": {},
   "outputs": [],
   "source": [
    "dfa = dfl.append(dfm)"
   ]
  },
  {
   "cell_type": "code",
   "execution_count": 27,
   "metadata": {},
   "outputs": [
    {
     "data": {
      "text/plain": [
       "1    11703\n",
       "0     5898\n",
       "Name: Eleven, dtype: int64"
      ]
     },
     "execution_count": 27,
     "metadata": {},
     "output_type": "execute_result"
    }
   ],
   "source": [
    "dfa[dfa['CreatedByUserOrganization'] == \"ITA\"]['Eleven'].value_counts()"
   ]
  },
  {
   "cell_type": "code",
   "execution_count": 28,
   "metadata": {},
   "outputs": [
    {
     "data": {
      "text/plain": [
       "array(['BOS', 'Self Service', 'NotSpecified', 'ITA', 'OCB',\n",
       "       'Proactive Insert', 'Self Service_SAN', 'BSS', 'BSL',\n",
       "       'BOS Franchise', \"Council's Office\", 'LAAS', 'FIMS', 'LASAN'],\n",
       "      dtype=object)"
      ]
     },
     "execution_count": 28,
     "metadata": {},
     "output_type": "execute_result"
    }
   ],
   "source": [
    "dfa['CreatedByUserOrganization'].unique()"
   ]
  },
  {
   "cell_type": "code",
   "execution_count": 29,
   "metadata": {},
   "outputs": [],
   "source": [
    "c = ['Anonymous','CreatedByUserOrganization', 'RequestType','MobileOS','RequestSource', 'Month']"
   ]
  },
  {
   "cell_type": "code",
   "execution_count": null,
   "metadata": {},
   "outputs": [],
   "source": []
  }
 ],
 "metadata": {
  "kernelspec": {
   "display_name": "Python 3",
   "language": "python",
   "name": "python3"
  },
  "language_info": {
   "codemirror_mode": {
    "name": "ipython",
    "version": 3
   },
   "file_extension": ".py",
   "mimetype": "text/x-python",
   "name": "python",
   "nbconvert_exporter": "python",
   "pygments_lexer": "ipython3",
   "version": "3.7.7"
  }
 },
 "nbformat": 4,
 "nbformat_minor": 2
}
