{
 "cells": [
  {
   "cell_type": "code",
   "execution_count": 134,
   "metadata": {},
   "outputs": [],
   "source": [
    "'''\n",
    "Code for piping the majority and minority classes to their appropriate models, and running the models\n",
    "'''\n",
    "import pandas as pd\n",
    "import numpy as np \n",
    "from sklearn.preprocessing import LabelEncoder\n",
    "from sklearn.preprocessing import OneHotEncoder\n",
    "from sklearn.model_selection import train_test_split\n",
    "from sklearn import metrics\n",
    "from datetime import datetime, timedelta\n",
    "from dateutil.relativedelta import relativedelta\n",
    "from sklearn.naive_bayes import GaussianNB\n",
    "from sklearn import tree\n",
    "from sklearn.ensemble import RandomForestClassifier\n",
    "from sklearn.linear_model import LogisticRegression\n",
    "#Other model will go here as well\n",
    "import LACER as lc\n",
    "from sklearn.metrics import mean_squared_error\n",
    "from sklearn.metrics import mean_absolute_error\n",
    "from sgcrf import SparseGaussianCRF\n",
    "from joblib import dump, load\n",
    "import pickle\n",
    "from sklearn.pipeline import Pipeline\n",
    "\n",
    "#Features to use in our model, c = categorical, d = numeric\n",
    "c = ['AssignTo', 'RequestType', 'RequestSource', 'Month', 'Anonymous', 'CreatedByUserOrganization']\n",
    "d = ['Latitude', 'Longitude']\n",
    "    \n",
    "#Slightly editied lacer funcions\n",
    "def preprocessing(df, start_date, end_date):\n",
    "    \"\"\"\n",
    "    Filters dataframe by specified start and end_dates and runs CleanedFrame on it.  \n",
    "    \"\"\" \n",
    "    #Filter dataframe by dates \n",
    "    df = df[(df['Just Date'] >= start_date) & (df['Just Date'] <= end_date)]\n",
    "    df = lc.CleanedFrame(df)\n",
    "    return df\n",
    "\n",
    "def lacer(df, df1, train_start_date, train_end_date, test_start_date, test_end_date, request_type, CD, predictor_num):\n",
    "    \"\"\"\n",
    "    Trains 2 GCRF models on data from specified CD and Request Type which is assigned to fulfill request. \n",
    "    Uses specified start and end dates for training and testing to creat train and test sets. \n",
    "    \"\"\"\n",
    "\n",
    "    #Create Training and Testing Sets\n",
    "    dftrain = preprocessing(df, train_start_date, train_end_date)\n",
    "    dftrain = dftrain.reset_index(drop = True)\n",
    "    dftest = preprocessing(df1, test_start_date, test_end_date)\n",
    "    dftest = dftest.reset_index(drop = True)\n",
    "\n",
    "    #Reserve test set for training on all 3 models.\n",
    "    \n",
    "    y_train, y_test = lc.CreateTestSet(dftest, predictor_num)\n",
    "    y_test = y_test.reshape((-1, 1))\n",
    "   \n",
    "\n",
    "    ## 2 Models\n",
    "    #Model1: CD\n",
    "    modelCD = SparseGaussianCRF(lamL=0.1, lamT=0.1, n_iter=10000)\n",
    "    dftrainCD = dftrain[dftrain['CD'] == CD].reset_index(drop = True)\n",
    "    \n",
    "    \n",
    "    X_trainCD, X_testCD = lc.CreateTrainSet(dftrainCD, predictor_num)\n",
    "    X_testCD = X_testCD.reshape((-1, 1))\n",
    "    modelCD.fit(X_trainCD, X_testCD)\n",
    "\n",
    "    y_predCD = modelCD.predict(y_train)\n",
    "\n",
    "    #Model2: Request_type\n",
    "    modelRT = SparseGaussianCRF(lamL=0.1, lamT=0.1, n_iter=10000)\n",
    "    dftrainRT = dftrain[dftrain['RequestType'] == request_type].reset_index(drop = True)\n",
    "\n",
    "    X_trainRT, X_testRT = lc.CreateTrainSet(dftrainRT, predictor_num)\n",
    "    X_testRT = X_testRT.reshape((-1, 1))\n",
    "\n",
    "    modelRT.fit(X_trainRT, X_testRT)\n",
    "\n",
    "    y_predRT = modelRT.predict(y_train)\n",
    "\n",
    "\n",
    "    #Average out all predictions\n",
    "    y_predFinal = (y_predCD + y_predRT )/2\n",
    "\n",
    "    # Return models\n",
    "    return modelCD, modelRT\n",
    "\n",
    "\"\"\"\n",
    "Retu whether or not a number is greater than 11. \n",
    "\"\"\"\n",
    "def gelev(val): \n",
    "    if val <= 11: \n",
    "        return 0\n",
    "    else: \n",
    "        return 1\n",
    "\n",
    "'''\n",
    "Preprocessing function. Takes in the file path to the data and loads it in a DataFrame, then calcuates the elapsed days per request and marks them as more than or less than eleven days. Then it encodes the appropriate values and returns the train data, labels, and the formatted dataframe.\n",
    "'''\n",
    "def preprocess(df, formatted=False,encode=False):\n",
    "    if not formatted:\n",
    "        df['Just Date'] = df['Just Date'].apply(lambda x: datetime.strptime(x,'%Y-%m-%d'))\n",
    "    df['Eleven'] = df['ElapsedDays'].apply(gelev, 0)\n",
    "    df['Month'] = df['Just Date'].dt.month_name()\n",
    "    #Put desired columns into dataframe, drop nulls. \n",
    "    dfn = df.filter(items = c + d + ['ElapsedDays','Just Date','CreatedDate','ClosedDate','CD'])\n",
    "    dfn = dfn.dropna()\n",
    "    #Separate data into explanatory and response variables\n",
    "    XCAT = dfn.filter(items = c).values\n",
    "    XNUM = dfn.filter(items = d).values\n",
    "    y = dfn['ElapsedDays'] <= 11\n",
    "    #Encode cateogrical data and merge with numerical data\n",
    "    if encode:\n",
    "        onehotencoder = OneHotEncoder()\n",
    "        print(XCAT.shape)\n",
    "        onehotencoder.fit_transform(XCAT)\n",
    "        #XCAT = onehotencoder.fit_transform(XCAT).toarray()\n",
    "        X = np.concatenate((XCAT, XNUM), axis=1)\n",
    "        print()\n",
    "        dump(onehotencoder,'onehot.joblib')\n",
    "        #pickle.dump(onehotencoder, open(\"encoder.pkl\", \"wb\"))\n",
    "    else:\n",
    "        onehotencoder = load('onehot.joblib')\n",
    "        XCAT = onehotencoder.transform(XCAT).toarray()\n",
    "        X = np.concatenate((XCAT, XNUM), axis=1)\n",
    "    return X,y, dfn\n",
    "\n",
    "def preprocess_request(df):\n",
    "    dfn = df.filter(items = c + d)\n",
    "    dfn = dfn.dropna()\n",
    "    #Separate data into explanatory and response variables\n",
    "    XCAT = dfn.filter(items = c).values\n",
    "    XNUM = dfn.filter(items = d).values\n",
    "    y = None\n",
    "    #Encode cateogrical data and merge with numerical data\n",
    "    onehotencoder = load('onehot.joblib')\n",
    "    XCAT = onehotencoder.transform(XCAT).toarray()\n",
    "    X = np.concatenate((XCAT, XNUM), axis=1)\n",
    "    return X, dfn\n",
    "\n",
    "'''\n",
    "Runs the model that classifies each request as more than or less than/equal to 11 days. Parameters are the hyperparameters for the model itself, and the train data and labels.\n",
    "'''\n",
    "def estimation_model(estimators, depth,X,y):    \n",
    "    rf = RandomForestClassifier(n_estimators = estimators, max_depth = depth)\n",
    "    print('creating train, test, val split')\n",
    "    X_train, X_test, y_train, y_test = train_test_split(X, y, test_size = 0.2, random_state = 0)\n",
    "    X_train, X_val, y_train, y_val = train_test_split(X_train, y_train, test_size = 0.2, random_state = 0)\n",
    "    #Train Model on 3 yrs data on\n",
    "    print('training model')\n",
    "    rf.fit(X_train, y_train)\n",
    "    #Test model\n",
    "    print('testing model')\n",
    "    y_vpred = rf.predict(X_val)\n",
    "    print('dump to pickle')\n",
    "    pickle.dump(rf, open('randomForest.pkl', 'wb'))\n",
    "    #Print Accuracy Function results\n",
    "    print(\"Accuracy:\",metrics.accuracy_score(y_val, y_vpred))\n",
    "    print(\"Precision, Recall, F1Score:\",metrics.precision_recall_fscore_support(y_val, y_vpred, average = 'binary'))\n",
    "    return rf\n",
    "\n",
    "'''\n",
    "Will be replaced with model for requests over 11 days\n",
    "'''\n",
    "def minority_class_model(df):\n",
    "    # this needs to return a model for the deployment to work -- Andy\n",
    "    return 0,0\n",
    "\n",
    "'''\n",
    "Takes a file path to the data, runs the appropriate preprocessing steps, and uses the model to classify everything into the majority and minority class. Returns a dataframe with the majority class and a separate one with the minority class.\n",
    "'''\n",
    "def split_to_models(df,formatted=False, encode=True):\n",
    "    print('Calculating train data and labels')\n",
    "    X, y, df = preprocess(df,formatted)\n",
    "    print('Creating 11 day classifier')\n",
    "    #Train on 3 yrs before data\n",
    "    print(X.shape)\n",
    "    model_eleven = estimation_model(50,20,X,y)\n",
    "    df['LessEqualEleven'] = model_eleven.predict(X)\n",
    "    df['LessEqualEleven'] = df['LessEqualEleven'].apply(lambda x: int(x))\n",
    "    df_sgcrf = df[df['LessEqualEleven'] == 1.0]\n",
    "    df_other = df[df['LessEqualEleven'] == 0.0]\n",
    "    return df_sgcrf, df_other\n",
    "\n",
    "'''\n",
    "Takes the data file path and parameters for the lacer model and runs the pipeline to get the appropriate dataframes, then runs both models. This is the main function you should run from this file.\n",
    "'''\n",
    "'''\n",
    "def create_split_models(df,train_start_date, train_end_date, test_start_date, test_end_date, request_type, CD, predictor_num):\n",
    "    df_sgcrf, df_other = split_to_models(df)\n",
    "    print('running SGCRF')\n",
    "    #10 weeks\n",
    "    modelCD, modelRT = lacer(df_sgcrf.copy(),df_sgcrf.copy(), train_start_date, train_end_date, test_start_date, test_end_date, request_type, CD, predictor_num)\n",
    "    print('running (other model)')\n",
    "    #a,b = minority_class_model(df_other)\n",
    "    \n",
    "    # send to pickle so that flask can access it\n",
    "    print('dumping to pickle')\n",
    "    pickle.dump(modelCD, open('modelCD.pkl','wb'))\n",
    "    pickle.dump(modelRT, open('modelRT.pkl','wb'))\n",
    "    #return (modelCD, modelRT), (a, b)\n",
    "'''\n",
    "#Demo code\n",
    "def create_models(df,start_date, request_type, CD, predictor_num):\n",
    "    start = datetime.strptime(start_date,'%Y-%m-%d')\n",
    "    X, y, dfn = preprocess(df,encode=True)\n",
    "    #past three years\n",
    "    df_three = dfn[(dfn['Just Date'] <= start-timedelta(weeks=11)) &\n",
    "                   (dfn['Just Date'] >= start-timedelta(weeks=11)+relativedelta(years=-2) )]\n",
    "    df_sgcrf,ignore = split_to_models(df_three,True)\n",
    "    train_end_date = df_sgcrf.iloc[-50]['Just Date']\n",
    "    modelCD, modelRT = lacer(df_sgcrf.copy(),df_sgcrf.copy(), train_end_date - timedelta(weeks=10), train_end_date, train_end_date - timedelta(weeks=10), train_end_date, request_type, CD, predictor_num)\n",
    "    pickle.dump(modelCD, open('modelCD.pkl','wb'))\n",
    "    pickle.dump(modelRT, open('modelRT.pkl','wb'))\n",
    "    #return (modelCD, modelRT), (a, b)\n",
    "\n",
    "'''\n",
    "Beginning code to update the model after requests have been made.\n",
    "'''\n",
    "def update_model(requests,modelCD,modelRT,modelMin):\n",
    "    df_request = pd.DataFrame(data=requests,columns=c+d)\n",
    "    X, y, df = preprocess(df_request)\n",
    "    df_sgcrf = df[df['ElapsedDays'] <= 11.0]\n",
    "    df_other = df[df['ElapsedDays'] > 11.0]\n",
    "    modelCD.fit(np.asarray(df_sgcrf['CD']),np.asarray(df_sgcrf['ElapsedDays']))\n",
    "    modelRT.fit(np.asarray(df_sgcrf['RequestType']),np.asarray(df_sgcrf['ElapsedDays']))\n",
    "    #modelMin.fit will go here\n",
    "    #dump back to pickle - or we can just return the models themselves\n",
    "    pickle.dump(modelCD, open('modelCD.pkl'), 'wb')\n",
    "    pickle.dump(modelRT, open('modelRT.pkl'), 'wb')"
   ]
  },
  {
   "cell_type": "code",
   "execution_count": 133,
   "metadata": {
    "scrolled": false
   },
   "outputs": [
    {
     "name": "stderr",
     "output_type": "stream",
     "text": [
      "C:\\Users\\ngeta\\AppData\\Local\\Continuum\\anaconda3\\lib\\site-packages\\IPython\\core\\interactiveshell.py:3049: DtypeWarning: Columns (10,33) have mixed types. Specify dtype option on import or set low_memory=False.\n",
      "  interactivity=interactivity, compiler=compiler, result=result)\n"
     ]
    },
    {
     "name": "stdout",
     "output_type": "stream",
     "text": [
      "(679112, 6)\n",
      "\n",
      "Calculating train data and labels\n",
      "Creating 11 day classifier\n",
      "(679112, 111)\n",
      "creating train, test, val split\n",
      "training model\n",
      "testing model\n",
      "dump to pickle\n",
      "Accuracy: 0.9588985624620369\n",
      "Precision, Recall, F1Score: (0.9686987070579088, 0.9882007343941248, 0.9783525442788867, None)\n"
     ]
    },
    {
     "name": "stderr",
     "output_type": "stream",
     "text": [
      "C:\\Users\\ngeta\\p-requests\\311_Requests_Model\\LACER.py:84: SettingWithCopyWarning: \n",
      "A value is trying to be set on a copy of a slice from a DataFrame.\n",
      "Try using .loc[row_indexer,col_indexer] = value instead\n",
      "\n",
      "See the caveats in the documentation: http://pandas.pydata.org/pandas-docs/stable/indexing.html#indexing-view-versus-copy\n",
      "  df['ElapsedHours'] = df.apply(lambda x: elapsedHours(x['CreatedDate'],x['ClosedDate']),axis=1)\n",
      "C:\\Users\\ngeta\\p-requests\\311_Requests_Model\\LACER.py:85: SettingWithCopyWarning: \n",
      "A value is trying to be set on a copy of a slice from a DataFrame.\n",
      "Try using .loc[row_indexer,col_indexer] = value instead\n",
      "\n",
      "See the caveats in the documentation: http://pandas.pydata.org/pandas-docs/stable/indexing.html#indexing-view-versus-copy\n",
      "  df['ClosedDate'] = df['ClosedDate'].apply(lambda x: datetime.strptime(x, '%m/%d/%Y %I:%M:%S %p'))\n",
      "C:\\Users\\ngeta\\p-requests\\311_Requests_Model\\LACER.py:86: SettingWithCopyWarning: \n",
      "A value is trying to be set on a copy of a slice from a DataFrame.\n",
      "Try using .loc[row_indexer,col_indexer] = value instead\n",
      "\n",
      "See the caveats in the documentation: http://pandas.pydata.org/pandas-docs/stable/indexing.html#indexing-view-versus-copy\n",
      "  df['CreatedDate'] = df['CreatedDate'].apply(lambda x: datetime.strptime(x, '%m/%d/%Y %I:%M:%S %p'))\n",
      "C:\\Users\\ngeta\\p-requests\\311_Requests_Model\\LACER.py:84: SettingWithCopyWarning: \n",
      "A value is trying to be set on a copy of a slice from a DataFrame.\n",
      "Try using .loc[row_indexer,col_indexer] = value instead\n",
      "\n",
      "See the caveats in the documentation: http://pandas.pydata.org/pandas-docs/stable/indexing.html#indexing-view-versus-copy\n",
      "  df['ElapsedHours'] = df.apply(lambda x: elapsedHours(x['CreatedDate'],x['ClosedDate']),axis=1)\n",
      "C:\\Users\\ngeta\\p-requests\\311_Requests_Model\\LACER.py:85: SettingWithCopyWarning: \n",
      "A value is trying to be set on a copy of a slice from a DataFrame.\n",
      "Try using .loc[row_indexer,col_indexer] = value instead\n",
      "\n",
      "See the caveats in the documentation: http://pandas.pydata.org/pandas-docs/stable/indexing.html#indexing-view-versus-copy\n",
      "  df['ClosedDate'] = df['ClosedDate'].apply(lambda x: datetime.strptime(x, '%m/%d/%Y %I:%M:%S %p'))\n",
      "C:\\Users\\ngeta\\p-requests\\311_Requests_Model\\LACER.py:86: SettingWithCopyWarning: \n",
      "A value is trying to be set on a copy of a slice from a DataFrame.\n",
      "Try using .loc[row_indexer,col_indexer] = value instead\n",
      "\n",
      "See the caveats in the documentation: http://pandas.pydata.org/pandas-docs/stable/indexing.html#indexing-view-versus-copy\n",
      "  df['CreatedDate'] = df['CreatedDate'].apply(lambda x: datetime.strptime(x, '%m/%d/%Y %I:%M:%S %p'))\n",
      "100% |########################################################################|\n",
      "100% |########################################################################|\n"
     ]
    }
   ],
   "source": [
    "create_models(pd.read_csv('fservice.csv'),'2019-12-01','Graffiti Removal',5,50)"
   ]
  },
  {
   "cell_type": "code",
   "execution_count": 120,
   "metadata": {},
   "outputs": [
    {
     "name": "stderr",
     "output_type": "stream",
     "text": [
      "C:\\Users\\ngeta\\AppData\\Local\\Continuum\\anaconda3\\lib\\site-packages\\IPython\\core\\interactiveshell.py:3049: DtypeWarning: Columns (10,33) have mixed types. Specify dtype option on import or set low_memory=False.\n",
      "  interactivity=interactivity, compiler=compiler, result=result)\n"
     ]
    }
   ],
   "source": [
    "X,y, dfn = preprocess(pd.read_csv('fservice.csv'))"
   ]
  },
  {
   "cell_type": "code",
   "execution_count": 121,
   "metadata": {},
   "outputs": [
    {
     "data": {
      "text/html": [
       "<div>\n",
       "<style scoped>\n",
       "    .dataframe tbody tr th:only-of-type {\n",
       "        vertical-align: middle;\n",
       "    }\n",
       "\n",
       "    .dataframe tbody tr th {\n",
       "        vertical-align: top;\n",
       "    }\n",
       "\n",
       "    .dataframe thead th {\n",
       "        text-align: right;\n",
       "    }\n",
       "</style>\n",
       "<table border=\"1\" class=\"dataframe\">\n",
       "  <thead>\n",
       "    <tr style=\"text-align: right;\">\n",
       "      <th></th>\n",
       "      <th>AssignTo</th>\n",
       "      <th>RequestType</th>\n",
       "      <th>RequestSource</th>\n",
       "      <th>Month</th>\n",
       "      <th>Anonymous</th>\n",
       "      <th>CreatedByUserOrganization</th>\n",
       "      <th>Latitude</th>\n",
       "      <th>Longitude</th>\n",
       "      <th>ElapsedDays</th>\n",
       "      <th>Just Date</th>\n",
       "      <th>CreatedDate</th>\n",
       "      <th>ClosedDate</th>\n",
       "    </tr>\n",
       "  </thead>\n",
       "  <tbody>\n",
       "    <tr>\n",
       "      <th>2340578</th>\n",
       "      <td>NC</td>\n",
       "      <td>Bulky Items</td>\n",
       "      <td>Self Service</td>\n",
       "      <td>January</td>\n",
       "      <td>N</td>\n",
       "      <td>Self Service_SAN</td>\n",
       "      <td>34.082258</td>\n",
       "      <td>-118.312461</td>\n",
       "      <td>3</td>\n",
       "      <td>2019-01-01</td>\n",
       "      <td>01/01/2019 12:02:00 AM</td>\n",
       "      <td>01/04/2019 11:03:00 AM</td>\n",
       "    </tr>\n",
       "    <tr>\n",
       "      <th>2340580</th>\n",
       "      <td>WVA</td>\n",
       "      <td>Graffiti Removal</td>\n",
       "      <td>Self Service</td>\n",
       "      <td>January</td>\n",
       "      <td>N</td>\n",
       "      <td>Self Service</td>\n",
       "      <td>34.236888</td>\n",
       "      <td>-118.536385</td>\n",
       "      <td>2</td>\n",
       "      <td>2019-01-01</td>\n",
       "      <td>01/01/2019 12:10:00 AM</td>\n",
       "      <td>01/03/2019 12:27:00 AM</td>\n",
       "    </tr>\n",
       "    <tr>\n",
       "      <th>2340581</th>\n",
       "      <td>WV</td>\n",
       "      <td>Illegal Dumping Pickup</td>\n",
       "      <td>Self Service</td>\n",
       "      <td>January</td>\n",
       "      <td>N</td>\n",
       "      <td>Self Service</td>\n",
       "      <td>34.230222</td>\n",
       "      <td>-118.539758</td>\n",
       "      <td>6</td>\n",
       "      <td>2019-01-01</td>\n",
       "      <td>01/01/2019 12:19:00 AM</td>\n",
       "      <td>01/07/2019 09:39:00 AM</td>\n",
       "    </tr>\n",
       "    <tr>\n",
       "      <th>2340582</th>\n",
       "      <td>WVA</td>\n",
       "      <td>Graffiti Removal</td>\n",
       "      <td>Self Service</td>\n",
       "      <td>January</td>\n",
       "      <td>N</td>\n",
       "      <td>Self Service</td>\n",
       "      <td>34.235078</td>\n",
       "      <td>-118.536392</td>\n",
       "      <td>2</td>\n",
       "      <td>2019-01-01</td>\n",
       "      <td>01/01/2019 12:28:00 AM</td>\n",
       "      <td>01/03/2019 12:28:00 AM</td>\n",
       "    </tr>\n",
       "    <tr>\n",
       "      <th>2340583</th>\n",
       "      <td>WVA</td>\n",
       "      <td>Graffiti Removal</td>\n",
       "      <td>Self Service</td>\n",
       "      <td>January</td>\n",
       "      <td>N</td>\n",
       "      <td>Self Service</td>\n",
       "      <td>34.239704</td>\n",
       "      <td>-118.523064</td>\n",
       "      <td>2</td>\n",
       "      <td>2019-01-01</td>\n",
       "      <td>01/01/2019 12:32:00 AM</td>\n",
       "      <td>01/03/2019 04:27:00 PM</td>\n",
       "    </tr>\n",
       "  </tbody>\n",
       "</table>\n",
       "</div>"
      ],
      "text/plain": [
       "        AssignTo             RequestType RequestSource    Month Anonymous  \\\n",
       "2340578       NC             Bulky Items  Self Service  January         N   \n",
       "2340580      WVA        Graffiti Removal  Self Service  January         N   \n",
       "2340581       WV  Illegal Dumping Pickup  Self Service  January         N   \n",
       "2340582      WVA        Graffiti Removal  Self Service  January         N   \n",
       "2340583      WVA        Graffiti Removal  Self Service  January         N   \n",
       "\n",
       "        CreatedByUserOrganization   Latitude   Longitude  ElapsedDays  \\\n",
       "2340578          Self Service_SAN  34.082258 -118.312461            3   \n",
       "2340580              Self Service  34.236888 -118.536385            2   \n",
       "2340581              Self Service  34.230222 -118.539758            6   \n",
       "2340582              Self Service  34.235078 -118.536392            2   \n",
       "2340583              Self Service  34.239704 -118.523064            2   \n",
       "\n",
       "         Just Date             CreatedDate              ClosedDate  \n",
       "2340578 2019-01-01  01/01/2019 12:02:00 AM  01/04/2019 11:03:00 AM  \n",
       "2340580 2019-01-01  01/01/2019 12:10:00 AM  01/03/2019 12:27:00 AM  \n",
       "2340581 2019-01-01  01/01/2019 12:19:00 AM  01/07/2019 09:39:00 AM  \n",
       "2340582 2019-01-01  01/01/2019 12:28:00 AM  01/03/2019 12:28:00 AM  \n",
       "2340583 2019-01-01  01/01/2019 12:32:00 AM  01/03/2019 04:27:00 PM  "
      ]
     },
     "execution_count": 121,
     "metadata": {},
     "output_type": "execute_result"
    }
   ],
   "source": [
    "dfn.head()"
   ]
  },
  {
   "cell_type": "code",
   "execution_count": 150,
   "metadata": {},
   "outputs": [
    {
     "name": "stdout",
     "output_type": "stream",
     "text": [
      "(679112, 6)\n",
      "\n",
      "Calculating train data and labels\n",
      "Creating 11 day classifier\n",
      "(679112, 111)\n",
      "creating train, test, val split\n",
      "training model\n",
      "testing model\n",
      "dump to pickle\n",
      "Accuracy: 0.9589721879659114\n",
      "Precision, Recall, F1Score: (0.9686561291375158, 0.988328029375765, 0.9783932068009539, None)\n"
     ]
    },
    {
     "ename": "TypeError",
     "evalue": "<lambda>() got an unexpected keyword argument 'axis'",
     "output_type": "error",
     "traceback": [
      "\u001b[1;31m---------------------------------------------------------------------------\u001b[0m",
      "\u001b[1;31mTypeError\u001b[0m                                 Traceback (most recent call last)",
      "\u001b[1;32m<ipython-input-150-5cac9c091324>\u001b[0m in \u001b[0;36m<module>\u001b[1;34m\u001b[0m\n\u001b[0;32m      8\u001b[0m \u001b[0mtrain_end_date\u001b[0m \u001b[1;33m=\u001b[0m \u001b[0mdf_sgcrf\u001b[0m\u001b[1;33m.\u001b[0m\u001b[0miloc\u001b[0m\u001b[1;33m[\u001b[0m\u001b[1;33m-\u001b[0m\u001b[1;36m50\u001b[0m\u001b[1;33m]\u001b[0m\u001b[1;33m[\u001b[0m\u001b[1;34m'Just Date'\u001b[0m\u001b[1;33m]\u001b[0m\u001b[1;33m\u001b[0m\u001b[1;33m\u001b[0m\u001b[0m\n\u001b[0;32m      9\u001b[0m \u001b[0mdff\u001b[0m \u001b[1;33m=\u001b[0m \u001b[0mdf_sgcrf\u001b[0m\u001b[1;33m.\u001b[0m\u001b[0miloc\u001b[0m\u001b[1;33m[\u001b[0m\u001b[1;33m-\u001b[0m\u001b[1;36m51\u001b[0m\u001b[1;33m]\u001b[0m\u001b[1;33m\u001b[0m\u001b[1;33m\u001b[0m\u001b[0m\n\u001b[1;32m---> 10\u001b[1;33m \u001b[0mdftrain\u001b[0m \u001b[1;33m=\u001b[0m \u001b[0mlc\u001b[0m\u001b[1;33m.\u001b[0m\u001b[0mCleanedFrame\u001b[0m\u001b[1;33m(\u001b[0m\u001b[0mdff\u001b[0m\u001b[1;33m)\u001b[0m\u001b[1;33m\u001b[0m\u001b[1;33m\u001b[0m\u001b[0m\n\u001b[0m\u001b[0;32m     11\u001b[0m \u001b[0mytrain\u001b[0m\u001b[1;33m,\u001b[0m \u001b[0mytest\u001b[0m \u001b[1;33m=\u001b[0m \u001b[0mlc\u001b[0m\u001b[1;33m.\u001b[0m\u001b[0mCreateTestSet\u001b[0m\u001b[1;33m(\u001b[0m\u001b[0mdftrain\u001b[0m\u001b[1;33m,\u001b[0m \u001b[1;36m50\u001b[0m\u001b[1;33m)\u001b[0m\u001b[1;33m\u001b[0m\u001b[1;33m\u001b[0m\u001b[0m\n\u001b[0;32m     12\u001b[0m \u001b[0mytest\u001b[0m \u001b[1;33m=\u001b[0m \u001b[0mytest\u001b[0m\u001b[1;33m.\u001b[0m\u001b[0mreshape\u001b[0m\u001b[1;33m(\u001b[0m\u001b[1;33m(\u001b[0m\u001b[1;33m-\u001b[0m\u001b[1;36m1\u001b[0m\u001b[1;33m,\u001b[0m \u001b[1;36m1\u001b[0m\u001b[1;33m)\u001b[0m\u001b[1;33m)\u001b[0m\u001b[1;33m\u001b[0m\u001b[1;33m\u001b[0m\u001b[0m\n",
      "\u001b[1;32m~\\p-requests\\311_Requests_Model\\LACER.py\u001b[0m in \u001b[0;36mCleanedFrame\u001b[1;34m(df)\u001b[0m\n\u001b[0;32m     82\u001b[0m     \u001b[0mchronologically\u001b[0m \u001b[0mby\u001b[0m \u001b[0mCreatedDate\u001b[0m\u001b[1;33m\u001b[0m\u001b[1;33m\u001b[0m\u001b[0m\n\u001b[0;32m     83\u001b[0m     \"\"\"\n\u001b[1;32m---> 84\u001b[1;33m     \u001b[0mdf\u001b[0m\u001b[1;33m[\u001b[0m\u001b[1;34m'ElapsedHours'\u001b[0m\u001b[1;33m]\u001b[0m \u001b[1;33m=\u001b[0m \u001b[0mdf\u001b[0m\u001b[1;33m.\u001b[0m\u001b[0mapply\u001b[0m\u001b[1;33m(\u001b[0m\u001b[1;32mlambda\u001b[0m \u001b[0mx\u001b[0m\u001b[1;33m:\u001b[0m \u001b[0melapsedHours\u001b[0m\u001b[1;33m(\u001b[0m\u001b[0mx\u001b[0m\u001b[1;33m[\u001b[0m\u001b[1;34m'CreatedDate'\u001b[0m\u001b[1;33m]\u001b[0m\u001b[1;33m,\u001b[0m\u001b[0mx\u001b[0m\u001b[1;33m[\u001b[0m\u001b[1;34m'ClosedDate'\u001b[0m\u001b[1;33m]\u001b[0m\u001b[1;33m)\u001b[0m\u001b[1;33m,\u001b[0m\u001b[0maxis\u001b[0m\u001b[1;33m=\u001b[0m\u001b[1;36m1\u001b[0m\u001b[1;33m)\u001b[0m\u001b[1;33m\u001b[0m\u001b[1;33m\u001b[0m\u001b[0m\n\u001b[0m\u001b[0;32m     85\u001b[0m     \u001b[0mdf\u001b[0m\u001b[1;33m[\u001b[0m\u001b[1;34m'ClosedDate'\u001b[0m\u001b[1;33m]\u001b[0m \u001b[1;33m=\u001b[0m \u001b[0mdf\u001b[0m\u001b[1;33m[\u001b[0m\u001b[1;34m'ClosedDate'\u001b[0m\u001b[1;33m]\u001b[0m\u001b[1;33m.\u001b[0m\u001b[0mapply\u001b[0m\u001b[1;33m(\u001b[0m\u001b[1;32mlambda\u001b[0m \u001b[0mx\u001b[0m\u001b[1;33m:\u001b[0m \u001b[0mdatetime\u001b[0m\u001b[1;33m.\u001b[0m\u001b[0mstrptime\u001b[0m\u001b[1;33m(\u001b[0m\u001b[0mx\u001b[0m\u001b[1;33m,\u001b[0m \u001b[1;34m'%m/%d/%Y %I:%M:%S %p'\u001b[0m\u001b[1;33m)\u001b[0m\u001b[1;33m)\u001b[0m\u001b[1;33m\u001b[0m\u001b[1;33m\u001b[0m\u001b[0m\n\u001b[0;32m     86\u001b[0m     \u001b[0mdf\u001b[0m\u001b[1;33m[\u001b[0m\u001b[1;34m'CreatedDate'\u001b[0m\u001b[1;33m]\u001b[0m \u001b[1;33m=\u001b[0m \u001b[0mdf\u001b[0m\u001b[1;33m[\u001b[0m\u001b[1;34m'CreatedDate'\u001b[0m\u001b[1;33m]\u001b[0m\u001b[1;33m.\u001b[0m\u001b[0mapply\u001b[0m\u001b[1;33m(\u001b[0m\u001b[1;32mlambda\u001b[0m \u001b[0mx\u001b[0m\u001b[1;33m:\u001b[0m \u001b[0mdatetime\u001b[0m\u001b[1;33m.\u001b[0m\u001b[0mstrptime\u001b[0m\u001b[1;33m(\u001b[0m\u001b[0mx\u001b[0m\u001b[1;33m,\u001b[0m \u001b[1;34m'%m/%d/%Y %I:%M:%S %p'\u001b[0m\u001b[1;33m)\u001b[0m\u001b[1;33m)\u001b[0m\u001b[1;33m\u001b[0m\u001b[1;33m\u001b[0m\u001b[0m\n",
      "\u001b[1;32m~\\AppData\\Local\\Continuum\\anaconda3\\lib\\site-packages\\pandas\\core\\series.py\u001b[0m in \u001b[0;36mapply\u001b[1;34m(self, func, convert_dtype, args, **kwds)\u001b[0m\n\u001b[0;32m   3589\u001b[0m             \u001b[1;32melse\u001b[0m\u001b[1;33m:\u001b[0m\u001b[1;33m\u001b[0m\u001b[1;33m\u001b[0m\u001b[0m\n\u001b[0;32m   3590\u001b[0m                 \u001b[0mvalues\u001b[0m \u001b[1;33m=\u001b[0m \u001b[0mself\u001b[0m\u001b[1;33m.\u001b[0m\u001b[0mastype\u001b[0m\u001b[1;33m(\u001b[0m\u001b[0mobject\u001b[0m\u001b[1;33m)\u001b[0m\u001b[1;33m.\u001b[0m\u001b[0mvalues\u001b[0m\u001b[1;33m\u001b[0m\u001b[1;33m\u001b[0m\u001b[0m\n\u001b[1;32m-> 3591\u001b[1;33m                 \u001b[0mmapped\u001b[0m \u001b[1;33m=\u001b[0m \u001b[0mlib\u001b[0m\u001b[1;33m.\u001b[0m\u001b[0mmap_infer\u001b[0m\u001b[1;33m(\u001b[0m\u001b[0mvalues\u001b[0m\u001b[1;33m,\u001b[0m \u001b[0mf\u001b[0m\u001b[1;33m,\u001b[0m \u001b[0mconvert\u001b[0m\u001b[1;33m=\u001b[0m\u001b[0mconvert_dtype\u001b[0m\u001b[1;33m)\u001b[0m\u001b[1;33m\u001b[0m\u001b[1;33m\u001b[0m\u001b[0m\n\u001b[0m\u001b[0;32m   3592\u001b[0m \u001b[1;33m\u001b[0m\u001b[0m\n\u001b[0;32m   3593\u001b[0m         \u001b[1;32mif\u001b[0m \u001b[0mlen\u001b[0m\u001b[1;33m(\u001b[0m\u001b[0mmapped\u001b[0m\u001b[1;33m)\u001b[0m \u001b[1;32mand\u001b[0m \u001b[0misinstance\u001b[0m\u001b[1;33m(\u001b[0m\u001b[0mmapped\u001b[0m\u001b[1;33m[\u001b[0m\u001b[1;36m0\u001b[0m\u001b[1;33m]\u001b[0m\u001b[1;33m,\u001b[0m \u001b[0mSeries\u001b[0m\u001b[1;33m)\u001b[0m\u001b[1;33m:\u001b[0m\u001b[1;33m\u001b[0m\u001b[1;33m\u001b[0m\u001b[0m\n",
      "\u001b[1;32mpandas/_libs/lib.pyx\u001b[0m in \u001b[0;36mpandas._libs.lib.map_infer\u001b[1;34m()\u001b[0m\n",
      "\u001b[1;32m~\\AppData\\Local\\Continuum\\anaconda3\\lib\\site-packages\\pandas\\core\\series.py\u001b[0m in \u001b[0;36mf\u001b[1;34m(x)\u001b[0m\n\u001b[0;32m   3576\u001b[0m         \u001b[1;32mif\u001b[0m \u001b[0mkwds\u001b[0m \u001b[1;32mor\u001b[0m \u001b[0margs\u001b[0m \u001b[1;32mand\u001b[0m \u001b[1;32mnot\u001b[0m \u001b[0misinstance\u001b[0m\u001b[1;33m(\u001b[0m\u001b[0mfunc\u001b[0m\u001b[1;33m,\u001b[0m \u001b[0mnp\u001b[0m\u001b[1;33m.\u001b[0m\u001b[0mufunc\u001b[0m\u001b[1;33m)\u001b[0m\u001b[1;33m:\u001b[0m\u001b[1;33m\u001b[0m\u001b[1;33m\u001b[0m\u001b[0m\n\u001b[0;32m   3577\u001b[0m             \u001b[1;32mdef\u001b[0m \u001b[0mf\u001b[0m\u001b[1;33m(\u001b[0m\u001b[0mx\u001b[0m\u001b[1;33m)\u001b[0m\u001b[1;33m:\u001b[0m\u001b[1;33m\u001b[0m\u001b[1;33m\u001b[0m\u001b[0m\n\u001b[1;32m-> 3578\u001b[1;33m                 \u001b[1;32mreturn\u001b[0m \u001b[0mfunc\u001b[0m\u001b[1;33m(\u001b[0m\u001b[0mx\u001b[0m\u001b[1;33m,\u001b[0m \u001b[1;33m*\u001b[0m\u001b[0margs\u001b[0m\u001b[1;33m,\u001b[0m \u001b[1;33m**\u001b[0m\u001b[0mkwds\u001b[0m\u001b[1;33m)\u001b[0m\u001b[1;33m\u001b[0m\u001b[1;33m\u001b[0m\u001b[0m\n\u001b[0m\u001b[0;32m   3579\u001b[0m         \u001b[1;32melse\u001b[0m\u001b[1;33m:\u001b[0m\u001b[1;33m\u001b[0m\u001b[1;33m\u001b[0m\u001b[0m\n\u001b[0;32m   3580\u001b[0m             \u001b[0mf\u001b[0m \u001b[1;33m=\u001b[0m \u001b[0mfunc\u001b[0m\u001b[1;33m\u001b[0m\u001b[1;33m\u001b[0m\u001b[0m\n",
      "\u001b[1;31mTypeError\u001b[0m: <lambda>() got an unexpected keyword argument 'axis'"
     ]
    }
   ],
   "source": [
    "\n",
    "start = datetime.strptime('2019-12-01','%Y-%m-%d')\n",
    "X, y, dfn = preprocess(df,encode=True)\n",
    " #past three years\n",
    "df_three = dfn[(dfn['Just Date'] <= start-timedelta(weeks=11)) &\n",
    "                (dfn['Just Date'] >= start-timedelta(weeks=11)+relativedelta(years=-2) )]\n",
    "df_sgcrf,ignore = split_to_models(df_three,True)\n",
    "train_end_date = df_sgcrf.iloc[-50]['Just Date']\n",
    "dff = df_sgcrf.iloc[-51]\n",
    "dftrain = lc.CleanedFrame(dff)311\n",
    "ytrain, ytest = lc.CreateTestSet(dftrain, 50)\n",
    "ytest = ytest.reshape((-1, 1))\n",
    "#pickle.dump(ytest,'fifty.pkl')\n",
    "ytest"
   ]
  },
  {
   "cell_type": "code",
   "execution_count": 105,
   "metadata": {},
   "outputs": [],
   "source": [
    "onehotencoder = load('onehot.joblib')\n"
   ]
  },
  {
   "cell_type": "code",
   "execution_count": 69,
   "metadata": {},
   "outputs": [
    {
     "data": {
      "text/plain": [
       "<bound method OneHotEncoder.get_feature_names of OneHotEncoder(categorical_features=None, categories=None,\n",
       "       dtype=<class 'numpy.float64'>, handle_unknown='error',\n",
       "       n_values=None, sparse=True)>"
      ]
     },
     "execution_count": 69,
     "metadata": {},
     "output_type": "execute_result"
    }
   ],
   "source": [
    "onehotencoder.get_feature_names"
   ]
  },
  {
   "cell_type": "code",
   "execution_count": 59,
   "metadata": {},
   "outputs": [
    {
     "data": {
      "text/html": [
       "<div>\n",
       "<style scoped>\n",
       "    .dataframe tbody tr th:only-of-type {\n",
       "        vertical-align: middle;\n",
       "    }\n",
       "\n",
       "    .dataframe tbody tr th {\n",
       "        vertical-align: top;\n",
       "    }\n",
       "\n",
       "    .dataframe thead th {\n",
       "        text-align: right;\n",
       "    }\n",
       "</style>\n",
       "<table border=\"1\" class=\"dataframe\">\n",
       "  <thead>\n",
       "    <tr style=\"text-align: right;\">\n",
       "      <th></th>\n",
       "      <th>AssignTo</th>\n",
       "      <th>RequestType</th>\n",
       "      <th>RequestSource</th>\n",
       "      <th>Anonymous</th>\n",
       "      <th>CreatedByUserOrganization</th>\n",
       "      <th>CD</th>\n",
       "      <th>Latitude</th>\n",
       "      <th>Longitude</th>\n",
       "      <th>ElapsedDays</th>\n",
       "      <th>Just Date</th>\n",
       "      <th>CreatedDate</th>\n",
       "      <th>ClosedDate</th>\n",
       "    </tr>\n",
       "  </thead>\n",
       "  <tbody>\n",
       "    <tr>\n",
       "      <th>2340578</th>\n",
       "      <td>NC</td>\n",
       "      <td>Bulky Items</td>\n",
       "      <td>Self Service</td>\n",
       "      <td>N</td>\n",
       "      <td>Self Service_SAN</td>\n",
       "      <td>4.0</td>\n",
       "      <td>34.082258</td>\n",
       "      <td>-118.312461</td>\n",
       "      <td>3</td>\n",
       "      <td>2019-01-01</td>\n",
       "      <td>01/01/2019 12:02:00 AM</td>\n",
       "      <td>01/04/2019 11:03:00 AM</td>\n",
       "    </tr>\n",
       "    <tr>\n",
       "      <th>2340580</th>\n",
       "      <td>WVA</td>\n",
       "      <td>Graffiti Removal</td>\n",
       "      <td>Self Service</td>\n",
       "      <td>N</td>\n",
       "      <td>Self Service</td>\n",
       "      <td>12.0</td>\n",
       "      <td>34.236888</td>\n",
       "      <td>-118.536385</td>\n",
       "      <td>2</td>\n",
       "      <td>2019-01-01</td>\n",
       "      <td>01/01/2019 12:10:00 AM</td>\n",
       "      <td>01/03/2019 12:27:00 AM</td>\n",
       "    </tr>\n",
       "    <tr>\n",
       "      <th>2340581</th>\n",
       "      <td>WV</td>\n",
       "      <td>Illegal Dumping Pickup</td>\n",
       "      <td>Self Service</td>\n",
       "      <td>N</td>\n",
       "      <td>Self Service</td>\n",
       "      <td>12.0</td>\n",
       "      <td>34.230222</td>\n",
       "      <td>-118.539758</td>\n",
       "      <td>6</td>\n",
       "      <td>2019-01-01</td>\n",
       "      <td>01/01/2019 12:19:00 AM</td>\n",
       "      <td>01/07/2019 09:39:00 AM</td>\n",
       "    </tr>\n",
       "    <tr>\n",
       "      <th>2340582</th>\n",
       "      <td>WVA</td>\n",
       "      <td>Graffiti Removal</td>\n",
       "      <td>Self Service</td>\n",
       "      <td>N</td>\n",
       "      <td>Self Service</td>\n",
       "      <td>12.0</td>\n",
       "      <td>34.235078</td>\n",
       "      <td>-118.536392</td>\n",
       "      <td>2</td>\n",
       "      <td>2019-01-01</td>\n",
       "      <td>01/01/2019 12:28:00 AM</td>\n",
       "      <td>01/03/2019 12:28:00 AM</td>\n",
       "    </tr>\n",
       "    <tr>\n",
       "      <th>2340583</th>\n",
       "      <td>WVA</td>\n",
       "      <td>Graffiti Removal</td>\n",
       "      <td>Self Service</td>\n",
       "      <td>N</td>\n",
       "      <td>Self Service</td>\n",
       "      <td>12.0</td>\n",
       "      <td>34.239704</td>\n",
       "      <td>-118.523064</td>\n",
       "      <td>2</td>\n",
       "      <td>2019-01-01</td>\n",
       "      <td>01/01/2019 12:32:00 AM</td>\n",
       "      <td>01/03/2019 04:27:00 PM</td>\n",
       "    </tr>\n",
       "  </tbody>\n",
       "</table>\n",
       "</div>"
      ],
      "text/plain": [
       "        AssignTo             RequestType RequestSource Anonymous  \\\n",
       "2340578       NC             Bulky Items  Self Service         N   \n",
       "2340580      WVA        Graffiti Removal  Self Service         N   \n",
       "2340581       WV  Illegal Dumping Pickup  Self Service         N   \n",
       "2340582      WVA        Graffiti Removal  Self Service         N   \n",
       "2340583      WVA        Graffiti Removal  Self Service         N   \n",
       "\n",
       "        CreatedByUserOrganization    CD   Latitude   Longitude  ElapsedDays  \\\n",
       "2340578          Self Service_SAN   4.0  34.082258 -118.312461            3   \n",
       "2340580              Self Service  12.0  34.236888 -118.536385            2   \n",
       "2340581              Self Service  12.0  34.230222 -118.539758            6   \n",
       "2340582              Self Service  12.0  34.235078 -118.536392            2   \n",
       "2340583              Self Service  12.0  34.239704 -118.523064            2   \n",
       "\n",
       "         Just Date             CreatedDate              ClosedDate  \n",
       "2340578 2019-01-01  01/01/2019 12:02:00 AM  01/04/2019 11:03:00 AM  \n",
       "2340580 2019-01-01  01/01/2019 12:10:00 AM  01/03/2019 12:27:00 AM  \n",
       "2340581 2019-01-01  01/01/2019 12:19:00 AM  01/07/2019 09:39:00 AM  \n",
       "2340582 2019-01-01  01/01/2019 12:28:00 AM  01/03/2019 12:28:00 AM  \n",
       "2340583 2019-01-01  01/01/2019 12:32:00 AM  01/03/2019 04:27:00 PM  "
      ]
     },
     "execution_count": 59,
     "metadata": {},
     "output_type": "execute_result"
    }
   ],
   "source": [
    "dff = dfn.filter(items = c + d + ['ElapsedDays','Just Date','CreatedDate','ClosedDate'])\n",
    "dff = dff.dropna()\n",
    "dff.head()\n"
   ]
  },
  {
   "cell_type": "code",
   "execution_count": 91,
   "metadata": {},
   "outputs": [
    {
     "data": {
      "text/plain": [
       "(679112, 6)"
      ]
     },
     "execution_count": 91,
     "metadata": {},
     "output_type": "execute_result"
    }
   ],
   "source": [
    "XCAT = dfn.filter(items = c).values\n",
    "XCAT.shape"
   ]
  },
  {
   "cell_type": "code",
   "execution_count": 89,
   "metadata": {},
   "outputs": [],
   "source": [
    "from dateutil.relativedelta import relativedelta\n",
    "start_date = '2019-12-01'\n",
    "start = datetime.strptime(start_date,'%Y-%m-%d')\n",
    "df_three = dfn[(dfn['Just Date'] <= start-timedelta(weeks=11)) &\n",
    "                   (dfn['Just Date'] >= start-timedelta(weeks=11)+relativedelta(years=-1) )]"
   ]
  },
  {
   "cell_type": "code",
   "execution_count": 90,
   "metadata": {},
   "outputs": [
    {
     "data": {
      "text/html": [
       "<div>\n",
       "<style scoped>\n",
       "    .dataframe tbody tr th:only-of-type {\n",
       "        vertical-align: middle;\n",
       "    }\n",
       "\n",
       "    .dataframe tbody tr th {\n",
       "        vertical-align: top;\n",
       "    }\n",
       "\n",
       "    .dataframe thead th {\n",
       "        text-align: right;\n",
       "    }\n",
       "</style>\n",
       "<table border=\"1\" class=\"dataframe\">\n",
       "  <thead>\n",
       "    <tr style=\"text-align: right;\">\n",
       "      <th></th>\n",
       "      <th>AssignTo</th>\n",
       "      <th>RequestType</th>\n",
       "      <th>RequestSource</th>\n",
       "      <th>Anonymous</th>\n",
       "      <th>CreatedByUserOrganization</th>\n",
       "      <th>CD</th>\n",
       "      <th>Latitude</th>\n",
       "      <th>Longitude</th>\n",
       "      <th>ElapsedDays</th>\n",
       "      <th>Just Date</th>\n",
       "      <th>CreatedDate</th>\n",
       "      <th>ClosedDate</th>\n",
       "    </tr>\n",
       "  </thead>\n",
       "  <tbody>\n",
       "    <tr>\n",
       "      <th>2340578</th>\n",
       "      <td>NC</td>\n",
       "      <td>Bulky Items</td>\n",
       "      <td>Self Service</td>\n",
       "      <td>N</td>\n",
       "      <td>Self Service_SAN</td>\n",
       "      <td>4.0</td>\n",
       "      <td>34.082258</td>\n",
       "      <td>-118.312461</td>\n",
       "      <td>3</td>\n",
       "      <td>2019-01-01</td>\n",
       "      <td>01/01/2019 12:02:00 AM</td>\n",
       "      <td>01/04/2019 11:03:00 AM</td>\n",
       "    </tr>\n",
       "    <tr>\n",
       "      <th>2340580</th>\n",
       "      <td>WVA</td>\n",
       "      <td>Graffiti Removal</td>\n",
       "      <td>Self Service</td>\n",
       "      <td>N</td>\n",
       "      <td>Self Service</td>\n",
       "      <td>12.0</td>\n",
       "      <td>34.236888</td>\n",
       "      <td>-118.536385</td>\n",
       "      <td>2</td>\n",
       "      <td>2019-01-01</td>\n",
       "      <td>01/01/2019 12:10:00 AM</td>\n",
       "      <td>01/03/2019 12:27:00 AM</td>\n",
       "    </tr>\n",
       "    <tr>\n",
       "      <th>2340581</th>\n",
       "      <td>WV</td>\n",
       "      <td>Illegal Dumping Pickup</td>\n",
       "      <td>Self Service</td>\n",
       "      <td>N</td>\n",
       "      <td>Self Service</td>\n",
       "      <td>12.0</td>\n",
       "      <td>34.230222</td>\n",
       "      <td>-118.539758</td>\n",
       "      <td>6</td>\n",
       "      <td>2019-01-01</td>\n",
       "      <td>01/01/2019 12:19:00 AM</td>\n",
       "      <td>01/07/2019 09:39:00 AM</td>\n",
       "    </tr>\n",
       "    <tr>\n",
       "      <th>2340582</th>\n",
       "      <td>WVA</td>\n",
       "      <td>Graffiti Removal</td>\n",
       "      <td>Self Service</td>\n",
       "      <td>N</td>\n",
       "      <td>Self Service</td>\n",
       "      <td>12.0</td>\n",
       "      <td>34.235078</td>\n",
       "      <td>-118.536392</td>\n",
       "      <td>2</td>\n",
       "      <td>2019-01-01</td>\n",
       "      <td>01/01/2019 12:28:00 AM</td>\n",
       "      <td>01/03/2019 12:28:00 AM</td>\n",
       "    </tr>\n",
       "    <tr>\n",
       "      <th>2340583</th>\n",
       "      <td>WVA</td>\n",
       "      <td>Graffiti Removal</td>\n",
       "      <td>Self Service</td>\n",
       "      <td>N</td>\n",
       "      <td>Self Service</td>\n",
       "      <td>12.0</td>\n",
       "      <td>34.239704</td>\n",
       "      <td>-118.523064</td>\n",
       "      <td>2</td>\n",
       "      <td>2019-01-01</td>\n",
       "      <td>01/01/2019 12:32:00 AM</td>\n",
       "      <td>01/03/2019 04:27:00 PM</td>\n",
       "    </tr>\n",
       "  </tbody>\n",
       "</table>\n",
       "</div>"
      ],
      "text/plain": [
       "        AssignTo             RequestType RequestSource Anonymous  \\\n",
       "2340578       NC             Bulky Items  Self Service         N   \n",
       "2340580      WVA        Graffiti Removal  Self Service         N   \n",
       "2340581       WV  Illegal Dumping Pickup  Self Service         N   \n",
       "2340582      WVA        Graffiti Removal  Self Service         N   \n",
       "2340583      WVA        Graffiti Removal  Self Service         N   \n",
       "\n",
       "        CreatedByUserOrganization    CD   Latitude   Longitude  ElapsedDays  \\\n",
       "2340578          Self Service_SAN   4.0  34.082258 -118.312461            3   \n",
       "2340580              Self Service  12.0  34.236888 -118.536385            2   \n",
       "2340581              Self Service  12.0  34.230222 -118.539758            6   \n",
       "2340582              Self Service  12.0  34.235078 -118.536392            2   \n",
       "2340583              Self Service  12.0  34.239704 -118.523064            2   \n",
       "\n",
       "         Just Date             CreatedDate              ClosedDate  \n",
       "2340578 2019-01-01  01/01/2019 12:02:00 AM  01/04/2019 11:03:00 AM  \n",
       "2340580 2019-01-01  01/01/2019 12:10:00 AM  01/03/2019 12:27:00 AM  \n",
       "2340581 2019-01-01  01/01/2019 12:19:00 AM  01/07/2019 09:39:00 AM  \n",
       "2340582 2019-01-01  01/01/2019 12:28:00 AM  01/03/2019 12:28:00 AM  \n",
       "2340583 2019-01-01  01/01/2019 12:32:00 AM  01/03/2019 04:27:00 PM  "
      ]
     },
     "execution_count": 90,
     "metadata": {},
     "output_type": "execute_result"
    }
   ],
   "source": [
    "df_three.head()"
   ]
  },
  {
   "cell_type": "code",
   "execution_count": null,
   "metadata": {},
   "outputs": [],
   "source": [
    "    dfn = df.filter(items = c + d)\n",
    "    dfn = dfn.dropna()\n",
    "    #Separate data into explanatory and response variables\n",
    "    XCAT = dfn.filter(items = c).values\n",
    "    XNUM = dfn.filter(items = d).values\n",
    "    y = None\n",
    "    #Encode cateogrical data and merge with numerical data\n",
    "    onehotencoder = load('onehot.joblib')\n",
    "    XCAT = onehotencoder.transform(XCAT).toarray()\n",
    "    X = np.concatenate((XCAT, XNUM), axis=1)\n",
    "    return X, dfn"
   ]
  },
  {
   "cell_type": "code",
   "execution_count": 143,
   "metadata": {},
   "outputs": [],
   "source": [
    "features = ['WLA','Bulky Items','Self Service','January','N','Self Service',34.0144110617, -118.444726595]\n",
    "column_names = ['AssignTo', 'RequestType', 'RequestSource', 'Month', 'Anonymous', 'CreatedByUserOrganization','Latitude','Longitude']\n",
    "dictionary = dict(zip(column_names,features))\n",
    "df_request = pd.DataFrame(columns= column_names)\n",
    "for key in dictionary: \n",
    "    df_request.at[0, key] = dictionary[key] \n",
    "X, dfn = preprocess_request(df_request)\n"
   ]
  },
  {
   "cell_type": "code",
   "execution_count": 144,
   "metadata": {},
   "outputs": [
    {
     "data": {
      "text/plain": [
       "array([[0.0, 0.0, 0.0, 0.0, 0.0, 0.0, 0.0, 0.0, 0.0, 0.0, 0.0, 0.0, 0.0,\n",
       "        0.0, 0.0, 0.0, 0.0, 0.0, 0.0, 0.0, 0.0, 0.0, 0.0, 0.0, 0.0, 0.0,\n",
       "        0.0, 0.0, 0.0, 0.0, 0.0, 0.0, 0.0, 0.0, 0.0, 0.0, 0.0, 0.0, 0.0,\n",
       "        0.0, 0.0, 0.0, 0.0, 0.0, 0.0, 0.0, 0.0, 0.0, 0.0, 0.0, 0.0, 0.0,\n",
       "        0.0, 0.0, 0.0, 0.0, 1.0, 0.0, 0.0, 0.0, 1.0, 0.0, 0.0, 0.0, 0.0,\n",
       "        0.0, 0.0, 0.0, 0.0, 0.0, 0.0, 0.0, 0.0, 0.0, 0.0, 0.0, 0.0, 0.0,\n",
       "        0.0, 0.0, 0.0, 1.0, 0.0, 0.0, 0.0, 0.0, 0.0, 0.0, 0.0, 1.0, 0.0,\n",
       "        0.0, 0.0, 0.0, 1.0, 0.0, 0.0, 0.0, 0.0, 0.0, 0.0, 0.0, 0.0, 0.0,\n",
       "        0.0, 0.0, 0.0, 1.0, 0.0, 34.0144110617, -118.444726595]],\n",
       "      dtype=object)"
      ]
     },
     "execution_count": 144,
     "metadata": {},
     "output_type": "execute_result"
    }
   ],
   "source": [
    "X"
   ]
  },
  {
   "cell_type": "code",
   "execution_count": 148,
   "metadata": {},
   "outputs": [
    {
     "ename": "ValueError",
     "evalue": "shapes (1,50) and (111,1) not aligned: 50 (dim 1) != 111 (dim 0)",
     "output_type": "error",
     "traceback": [
      "\u001b[1;31m---------------------------------------------------------------------------\u001b[0m",
      "\u001b[1;31mValueError\u001b[0m                                Traceback (most recent call last)",
      "\u001b[1;32m<ipython-input-148-e69abc7981f0>\u001b[0m in \u001b[0;36m<module>\u001b[1;34m\u001b[0m\n\u001b[0;32m      1\u001b[0m \u001b[0mmodelRT\u001b[0m \u001b[1;33m=\u001b[0m \u001b[0mpickle\u001b[0m\u001b[1;33m.\u001b[0m\u001b[0mload\u001b[0m\u001b[1;33m(\u001b[0m\u001b[0mopen\u001b[0m\u001b[1;33m(\u001b[0m\u001b[1;34m'modelRT.pkl'\u001b[0m\u001b[1;33m,\u001b[0m \u001b[1;34m'rb'\u001b[0m\u001b[1;33m)\u001b[0m\u001b[1;33m)\u001b[0m\u001b[1;33m\u001b[0m\u001b[1;33m\u001b[0m\u001b[0m\n\u001b[1;32m----> 2\u001b[1;33m \u001b[0mmodelRT\u001b[0m\u001b[1;33m.\u001b[0m\u001b[0mpredict\u001b[0m\u001b[1;33m(\u001b[0m\u001b[0mX\u001b[0m\u001b[1;33m)\u001b[0m\u001b[1;33m\u001b[0m\u001b[1;33m\u001b[0m\u001b[0m\n\u001b[0m",
      "\u001b[1;32m~\\p-requests\\311_Requests_Model\\sgcrf.py\u001b[0m in \u001b[0;36mpredict\u001b[1;34m(self, X, Y)\u001b[0m\n\u001b[0;32m    457\u001b[0m         \u001b[1;33m-\u001b[0m\u001b[0mΘ\u001b[0m \u001b[1;33m*\u001b[0m \u001b[0mΛ\u001b[0m\u001b[1;33m^\u001b[0m\u001b[1;33m-\u001b[0m\u001b[1;36m1\u001b[0m \u001b[1;33m*\u001b[0m \u001b[0mx\u001b[0m\u001b[1;33m\u001b[0m\u001b[1;33m\u001b[0m\u001b[0m\n\u001b[0;32m    458\u001b[0m         \"\"\"\n\u001b[1;32m--> 459\u001b[1;33m         \u001b[1;32mreturn\u001b[0m \u001b[1;33m-\u001b[0m\u001b[0mnp\u001b[0m\u001b[1;33m.\u001b[0m\u001b[0mdot\u001b[0m\u001b[1;33m(\u001b[0m\u001b[0mnp\u001b[0m\u001b[1;33m.\u001b[0m\u001b[0mdot\u001b[0m\u001b[1;33m(\u001b[0m\u001b[0minv\u001b[0m\u001b[1;33m(\u001b[0m\u001b[0mself\u001b[0m\u001b[1;33m.\u001b[0m\u001b[0mLam\u001b[0m\u001b[1;33m)\u001b[0m\u001b[1;33m,\u001b[0m \u001b[0mself\u001b[0m\u001b[1;33m.\u001b[0m\u001b[0mTheta\u001b[0m\u001b[1;33m.\u001b[0m\u001b[0mT\u001b[0m\u001b[1;33m)\u001b[0m\u001b[1;33m,\u001b[0m \u001b[0mX\u001b[0m\u001b[1;33m.\u001b[0m\u001b[0mT\u001b[0m\u001b[1;33m)\u001b[0m\u001b[1;33m.\u001b[0m\u001b[0mT\u001b[0m\u001b[1;33m\u001b[0m\u001b[1;33m\u001b[0m\u001b[0m\n\u001b[0m\u001b[0;32m    460\u001b[0m \u001b[1;33m\u001b[0m\u001b[0m\n\u001b[0;32m    461\u001b[0m \u001b[1;33m\u001b[0m\u001b[0m\n",
      "\u001b[1;31mValueError\u001b[0m: shapes (1,50) and (111,1) not aligned: 50 (dim 1) != 111 (dim 0)"
     ]
    }
   ],
   "source": [
    "modelRT = pickle.load(open('modelRT.pkl', 'rb'))\n",
    "modelRT.predict(X)"
   ]
  },
  {
   "cell_type": "code",
   "execution_count": 88,
   "metadata": {},
   "outputs": [],
   "source": [
    "dfn=df_request"
   ]
  },
  {
   "cell_type": "code",
   "execution_count": 92,
   "metadata": {},
   "outputs": [],
   "source": [
    "XCAT = dfn.filter(items = c).values\n",
    "XNUM = dfn.filter(items = d).values"
   ]
  },
  {
   "cell_type": "code",
   "execution_count": 102,
   "metadata": {},
   "outputs": [
    {
     "data": {
      "text/plain": [
       "array([['WLA', 'Bulky Items', 'Self Service', 'January', 'N',\n",
       "        'Self Service']], dtype=object)"
      ]
     },
     "execution_count": 102,
     "metadata": {},
     "output_type": "execute_result"
    }
   ],
   "source": [
    "XCAT"
   ]
  },
  {
   "cell_type": "code",
   "execution_count": 99,
   "metadata": {
    "scrolled": true
   },
   "outputs": [
    {
     "ename": "ValueError",
     "evalue": "cannot reshape array of size 6 into shape (7,)",
     "output_type": "error",
     "traceback": [
      "\u001b[1;31m---------------------------------------------------------------------------\u001b[0m",
      "\u001b[1;31mValueError\u001b[0m                                Traceback (most recent call last)",
      "\u001b[1;32m<ipython-input-99-c744862a1e2b>\u001b[0m in \u001b[0;36m<module>\u001b[1;34m\u001b[0m\n\u001b[0;32m      1\u001b[0m \u001b[0monehotencoder\u001b[0m \u001b[1;33m=\u001b[0m \u001b[0mload\u001b[0m\u001b[1;33m(\u001b[0m\u001b[1;34m'onehot.joblib'\u001b[0m\u001b[1;33m)\u001b[0m\u001b[1;33m\u001b[0m\u001b[1;33m\u001b[0m\u001b[0m\n\u001b[1;32m----> 2\u001b[1;33m \u001b[0mXCAT\u001b[0m \u001b[1;33m=\u001b[0m \u001b[0monehotencoder\u001b[0m\u001b[1;33m.\u001b[0m\u001b[0mtransform\u001b[0m\u001b[1;33m(\u001b[0m\u001b[0mXCAT\u001b[0m\u001b[1;33m.\u001b[0m\u001b[0mreshape\u001b[0m\u001b[1;33m(\u001b[0m\u001b[1;33m(\u001b[0m\u001b[1;36m7\u001b[0m\u001b[1;33m,\u001b[0m\u001b[1;33m)\u001b[0m\u001b[1;33m)\u001b[0m\u001b[1;33m)\u001b[0m\u001b[1;33m.\u001b[0m\u001b[0mtoarray\u001b[0m\u001b[1;33m(\u001b[0m\u001b[1;33m)\u001b[0m\u001b[1;33m\u001b[0m\u001b[1;33m\u001b[0m\u001b[0m\n\u001b[0m",
      "\u001b[1;31mValueError\u001b[0m: cannot reshape array of size 6 into shape (7,)"
     ]
    }
   ],
   "source": [
    "onehotencoder = load('onehot.joblib')\n",
    "XCAT = onehotencoder.transform(XCAT.reshape((7,-))).toarray()"
   ]
  },
  {
   "cell_type": "code",
   "execution_count": null,
   "metadata": {},
   "outputs": [],
   "source": [
    "df = pd.read_csv('fservice.csv')"
   ]
  },
  {
   "cell_type": "code",
   "execution_count": 140,
   "metadata": {},
   "outputs": [
    {
     "data": {
      "text/plain": [
       "2890754"
      ]
     },
     "execution_count": 140,
     "metadata": {},
     "output_type": "execute_result"
    }
   ],
   "source": [
    "#Number of requests that are under or equal to 11 days\n",
    "df_under = df[df['ElapsedDays'] <= 11]\n",
    "df_under.shape[0]"
   ]
  },
  {
   "cell_type": "code",
   "execution_count": 141,
   "metadata": {},
   "outputs": [
    {
     "data": {
      "text/plain": [
       "140059"
      ]
     },
     "execution_count": 141,
     "metadata": {},
     "output_type": "execute_result"
    }
   ],
   "source": [
    "#Number of requests that are more than 11 days\n",
    "df_over = df[df['ElapsedDays'] > 11]\n",
    "df_over.shape[0]"
   ]
  },
  {
   "cell_type": "code",
   "execution_count": 142,
   "metadata": {},
   "outputs": [
    {
     "data": {
      "text/plain": [
       "0.046211693034179276"
      ]
     },
     "execution_count": 142,
     "metadata": {},
     "output_type": "execute_result"
    }
   ],
   "source": [
    "df_over.shape[0] / (df_over.shape[0] + df_under.shape[0])\n",
    "#Very small"
   ]
  }
 ],
 "metadata": {
  "kernelspec": {
   "display_name": "Python 3",
   "language": "python",
   "name": "python3"
  },
  "language_info": {
   "codemirror_mode": {
    "name": "ipython",
    "version": 3
   },
   "file_extension": ".py",
   "mimetype": "text/x-python",
   "name": "python",
   "nbconvert_exporter": "python",
   "pygments_lexer": "ipython3",
   "version": "3.7.3"
  }
 },
 "nbformat": 4,
 "nbformat_minor": 2
}
