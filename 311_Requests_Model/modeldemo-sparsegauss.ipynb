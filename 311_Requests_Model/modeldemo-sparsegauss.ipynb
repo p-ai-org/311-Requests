{
 "cells": [
  {
   "cell_type": "code",
   "execution_count": 9,
   "metadata": {},
   "outputs": [],
   "source": [
    "import pandas as pd\n",
    "import numpy as np\n",
    "import sys\n",
    "import matplotlib.pyplot as plt\n",
    "from sklearn.metrics import mean_squared_error\n",
    "from sklearn.metrics import mean_absolute_error\n",
    "from sklearn.preprocessing import LabelEncoder\n",
    "from sklearn.preprocessing import OneHotEncoder\n",
    "from sklearn.model_selection import train_test_split\n",
    "from sklearn import metrics\n",
    "from datetime import datetime\n",
    "from sklearn.naive_bayes import GaussianNB\n",
    "from sklearn import tree\n",
    "from sklearn.ensemble import RandomForestClassifier\n",
    "from sklearn.linear_model import LogisticRegression\n",
    "# import getSamples as gs"
   ]
  },
  {
   "cell_type": "code",
   "execution_count": 7,
   "metadata": {},
   "outputs": [],
   "source": [
    "# downloaded from https://github.com/dswah/sgcrfpy\n",
    "from sgcrf import SparseGaussianCRF"
   ]
  },
  {
   "cell_type": "code",
   "execution_count": 8,
   "metadata": {},
   "outputs": [
    {
     "name": "stderr",
     "output_type": "stream",
     "text": [
      "/Users/andyhan/miniconda3/lib/python3.7/site-packages/IPython/core/interactiveshell.py:3072: DtypeWarning: Columns (20,33) have mixed types.Specify dtype option on import or set low_memory=False.\n",
      "  interactivity=interactivity, compiler=compiler, result=result)\n"
     ]
    }
   ],
   "source": [
    "df = pd.read_csv('fservice.csv')\n",
    "c = ['Anonymous','AssignTo', 'RequestType', 'RequestSource','CD','Direction', 'ActionTaken', 'APC' ,'AddressVerified']\n",
    "d = ['Latitude', 'Longitude']"
   ]
  },
  {
   "cell_type": "markdown",
   "metadata": {},
   "source": [
    "# Feature cleaning (for CD == 5)"
   ]
  },
  {
   "cell_type": "code",
   "execution_count": 24,
   "metadata": {},
   "outputs": [],
   "source": [
    "df = df[df['CD'] == 5.0]"
   ]
  },
  {
   "cell_type": "code",
   "execution_count": 149,
   "metadata": {},
   "outputs": [],
   "source": [
    "dfn = df.filter(items = c + d + ['ElapsedDays'] + ['Seven'])\n",
    "dfn = dfn.dropna()\n",
    "    \n",
    "XCAT = dfn.filter(items = c).values\n",
    "XNUM = dfn.filter(items = d).values\n",
    "    \n",
    "y_reg = dfn['ElapsedDays'] \n",
    "y_clas = dfn['ElapsedDays'] <= 7\n",
    "    \n",
    "labelencoder_X = LabelEncoder()\n",
    "for num in range(len(c)): \n",
    "    XCAT[:, num] = labelencoder_X.fit_transform(XCAT[:, num])\n",
    "            \n",
    "onehotencoder = OneHotEncoder()\n",
    "XCAT = onehotencoder.fit_transform(XCAT).toarray()\n",
    "    \n",
    "X = np.concatenate((XCAT, XNUM), axis=1)\n",
    "\n",
    "XN = X[:10]\n",
    "yn = y[:10]\n",
    "\n",
    "X = X[10:]\n",
    "y_reg = y_reg[10:]\n",
    "y_clas = y_clas[10:]"
   ]
  },
  {
   "cell_type": "code",
   "execution_count": 150,
   "metadata": {},
   "outputs": [],
   "source": [
    "# Change y-values to numbery\n",
    "y_clas = pd.get_dummies(y_clas)\n",
    "y_clas = y_clas.drop(columns=False)"
   ]
  },
  {
   "cell_type": "code",
   "execution_count": 151,
   "metadata": {},
   "outputs": [],
   "source": [
    "X_train, X_test, y_reg_train, y_reg_test = train_test_split(X, y_reg, test_size = 0.2, random_state = 0)\n",
    "X_train, X_val, y_reg_train, y_reg_val = train_test_split(X_train, y_reg_train, test_size = 0.2, random_state = 0)"
   ]
  },
  {
   "cell_type": "code",
   "execution_count": 152,
   "metadata": {},
   "outputs": [],
   "source": [
    "X_train, X_test, y_clas_train, y_clas_test = train_test_split(X, y_clas, test_size = 0.2, random_state = 0)\n",
    "X_train, X_val, y_clas_train, y_clas_val = train_test_split(X_train, y_clas_train, test_size = 0.2, random_state = 0)"
   ]
  },
  {
   "cell_type": "code",
   "execution_count": 153,
   "metadata": {},
   "outputs": [],
   "source": [
    "X_train = np.asarray(X_train)\n",
    "X_val = np.asarray(X_val)\n",
    "\n",
    "y_reg_train = np.asarray(y_reg_train)\n",
    "y_reg_val = np.asarray(y_reg_val)\n",
    "\n",
    "y_clas_train = np.asarray(y_clas_train)\n",
    "y_clas_val = np.asarray(y_clas_val)"
   ]
  },
  {
   "cell_type": "code",
   "execution_count": 137,
   "metadata": {},
   "outputs": [],
   "source": [
    "# change to 2-d arrays cause i think the model needs 2d\n",
    "y_reg_train = y_reg_train.reshape((-1, 1))\n",
    "y_reg_val = y_reg_val.reshape(-1, 1)"
   ]
  },
  {
   "cell_type": "markdown",
   "metadata": {},
   "source": [
    "## RMSE"
   ]
  },
  {
   "cell_type": "code",
   "execution_count": 138,
   "metadata": {},
   "outputs": [],
   "source": [
    "def rmse(y_hat,y):\n",
    "    #Method 1\n",
    "    #Get RMSE over each day\n",
    "    rmse_days = np.sqrt(mean_squared_error(y_hat, y, multioutput='raw_values'))\n",
    "    #Get average RMSE\n",
    "    rmse1 = sum(rmse_days)/len(rmse_days)\n",
    "    rmse1 = round(rmse1,2)\n",
    "    #Method 2\n",
    "    #Get sum of squares per day\n",
    "    sum_of_squares = sum((y_hat - y)**2)\n",
    "    #sum over days, divide by (num_days * num_samples), take sqrt()\n",
    "    rmse2 = np.sqrt(sum(sum_of_squares)/(y_hat.shape[1]*y_hat.shape[0]))\n",
    "    rmse2 = round(rmse2,2)\n",
    "\n",
    "    rmse_days = rmse_days.tolist()\n",
    "    rmse_days = [round(x,2) for x in rmse_days]\n",
    "\n",
    "    return rmse_days,rmse1,rmse2"
   ]
  },
  {
   "cell_type": "markdown",
   "metadata": {},
   "source": [
    "# SGCRF"
   ]
  },
  {
   "cell_type": "markdown",
   "metadata": {},
   "source": [
    "looks like SGCRF is a regression model? so what we can do is either:\n",
    "1. embrace the regression and predict how many days a request will take, or \n",
    "2. coerce the (regression) predictions into classification by rounding"
   ]
  },
  {
   "cell_type": "markdown",
   "metadata": {},
   "source": [
    "### option 1"
   ]
  },
  {
   "cell_type": "code",
   "execution_count": 139,
   "metadata": {},
   "outputs": [
    {
     "name": "stderr",
     "output_type": "stream",
     "text": [
      "100% |########################################################################|\n",
      "100% |########################################################################|\n",
      "100% |########################################################################|\n"
     ]
    }
   ],
   "source": [
    "model1 = SparseGaussianCRF(lamL=0.1, lamT=0.1, n_iter=10000)\n",
    "predictions1 = []\n",
    "\n",
    "# take the average of ITERATIONS predictions — the NY team does this\n",
    "ITERATIONS = 3\n",
    "\n",
    "for i in range(0, ITERATIONS):\n",
    "    model.fit(X_train, y_reg_train)\n",
    "    prediction1 = model.predict(X_val)\n",
    "    predictions1.append(prediction1)\n",
    "\n",
    "predictions1 = np.array(predictions1)\n",
    "predictions1 = np.mean(predictions1, axis=0)  # average"
   ]
  },
  {
   "cell_type": "markdown",
   "metadata": {},
   "source": [
    "### option 2"
   ]
  },
  {
   "cell_type": "code",
   "execution_count": 157,
   "metadata": {},
   "outputs": [
    {
     "name": "stderr",
     "output_type": "stream",
     "text": [
      "100% |########################################################################|\n",
      "100% |########################################################################|\n",
      "100% |########################################################################|\n"
     ]
    }
   ],
   "source": [
    "model2 = SparseGaussianCRF(lamL=0.1, lamT=0.1, n_iter=10000)\n",
    "predictions2 = []\n",
    "\n",
    "# take the average of ITERATIONS predictions — the NY team does this\n",
    "ITERATIONS = 3\n",
    "\n",
    "for i in range(0, ITERATIONS):\n",
    "    model.fit(X_train, y_clas_train)\n",
    "    prediction2 = model.predict(X_val)\n",
    "    predictions2.append(prediction2)\n",
    "\n",
    "predictions2 = np.array(predictions2)\n",
    "predictions2 = np.mean(predictions2, axis=0)  # average"
   ]
  },
  {
   "cell_type": "code",
   "execution_count": 160,
   "metadata": {},
   "outputs": [],
   "source": [
    "for i, prediction in enumerate(predictions2):\n",
    "    if prediction < 0.5:\n",
    "        predictions2[i] = 0\n",
    "    else:\n",
    "        predictions2[i] = 1"
   ]
  },
  {
   "cell_type": "code",
   "execution_count": 161,
   "metadata": {},
   "outputs": [
    {
     "data": {
      "text/plain": [
       "array([[1.],\n",
       "       [0.],\n",
       "       [1.],\n",
       "       [1.],\n",
       "       [1.],\n",
       "       [1.],\n",
       "       [1.],\n",
       "       [1.],\n",
       "       [0.],\n",
       "       [1.]])"
      ]
     },
     "execution_count": 161,
     "metadata": {},
     "output_type": "execute_result"
    }
   ],
   "source": [
    "predictions2[:10]"
   ]
  },
  {
   "cell_type": "markdown",
   "metadata": {},
   "source": [
    "## testing"
   ]
  },
  {
   "cell_type": "code",
   "execution_count": 156,
   "metadata": {
    "scrolled": true
   },
   "outputs": [
    {
     "name": "stdout",
     "output_type": "stream",
     "text": [
      "([14.57], 14.57, 2564.32)\n"
     ]
    }
   ],
   "source": [
    "# option 1. the units are days\n",
    "print(rmse(predictions1, y_reg_val))"
   ]
  },
  {
   "cell_type": "code",
   "execution_count": null,
   "metadata": {},
   "outputs": [],
   "source": [
    "# holy shit that's terrible"
   ]
  },
  {
   "cell_type": "code",
   "execution_count": 162,
   "metadata": {},
   "outputs": [
    {
     "name": "stdout",
     "output_type": "stream",
     "text": [
      "Accuracy: 0.8477429545265608\n"
     ]
    }
   ],
   "source": [
    "# option 2\n",
    "print(\"Accuracy:\", metrics.accuracy_score(y_clas_val, predictions2))"
   ]
  },
  {
   "cell_type": "code",
   "execution_count": null,
   "metadata": {},
   "outputs": [],
   "source": [
    "# holy shit that's terrible too"
   ]
  },
  {
   "cell_type": "code",
   "execution_count": 163,
   "metadata": {},
   "outputs": [
    {
     "data": {
      "text/plain": [
       "[<matplotlib.lines.Line2D at 0x7f7fe2fb7fd0>]"
      ]
     },
     "execution_count": 163,
     "metadata": {},
     "output_type": "execute_result"
    },
    {
     "data": {
      "image/png": "[encoded data removed]",
      "text/plain": [
       "<Figure size 432x288 with 1 Axes>"
      ]
     },
     "metadata": {
      "needs_background": "light"
     },
     "output_type": "display_data"
    }
   ],
   "source": [
    "loss = model.lnll\n",
    "plt.plot(loss)\n",
    "# lol no idea what this fugly graph means"
   ]
  }
 ],
 "metadata": {
  "kernelspec": {
   "display_name": "Python 3",
   "language": "python",
   "name": "python3"
  },
  "language_info": {
   "codemirror_mode": {
    "name": "ipython",
    "version": 3
   },
   "file_extension": ".py",
   "mimetype": "text/x-python",
   "name": "python",
   "nbconvert_exporter": "python",
   "pygments_lexer": "ipython3",
   "version": "3.7.7"
  }
 },
 "nbformat": 4,
 "nbformat_minor": 4
}
