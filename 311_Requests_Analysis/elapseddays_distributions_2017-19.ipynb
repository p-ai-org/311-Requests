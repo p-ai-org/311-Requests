{
 "cells": [
  {
   "cell_type": "code",
   "execution_count": 1,
   "metadata": {},
   "outputs": [],
   "source": [
    "import numpy as np\n",
    "import pandas as pd\n",
    "from datetime import datetime \n",
    "from datetime import timedelta\n",
    "import csv \n",
    "import matplotlib.pyplot as plt\n",
    "from datetime import date\n",
    "from datetime import time\n",
    "from sklearn.datasets import load_iris\n",
    "import matplotlib.dates as mdates\n",
    "from matplotlib.transforms import Transform\n",
    "from matplotlib.ticker import (\n",
    "    AutoLocator, AutoMinorLocator)\n",
    "import seaborn as sns\n",
    "from matplotlib import pyplot"
   ]
  },
  {
   "cell_type": "code",
   "execution_count": 2,
   "metadata": {},
   "outputs": [],
   "source": [
    "#convert seconds to weeks, days, hours, minutes, seconds\n",
    "\n",
    "intervals = (\n",
    "    ('days', 86400),    # 60 * 60 * 24\n",
    "    ('hours', 3600),    # 60 * 60\n",
    "    ('minutes', 60),\n",
    "    ('seconds', 1),\n",
    "    )\n",
    "\n",
    "def display_time(seconds, granularity=2):\n",
    "    result = []\n",
    "\n",
    "    for name, count in intervals:\n",
    "        value = seconds // count\n",
    "        if value:\n",
    "            seconds -= value * count\n",
    "            if value == 1:\n",
    "                name = name.rstrip('s')\n",
    "            result.append(\"{} {}\".format(value, name))\n",
    "    return ', '.join(result[:granularity])"
   ]
  },
  {
   "cell_type": "code",
   "execution_count": 3,
   "metadata": {},
   "outputs": [],
   "source": [
    "def secToDays(seconds):\n",
    "    \"\"\"Converts seconds to days\"\"\"\n",
    "    seconds_in_day = 60 * 60 * 24\n",
    "    seconds_in_hour = 60 * 60\n",
    "    seconds_in_minute = 60\n",
    "\n",
    "    days = seconds // seconds_in_day\n",
    "    hours = (seconds - (days * seconds_in_day)) // seconds_in_hour\n",
    "    minutes = (seconds - (days * seconds_in_day) - (hours * seconds_in_hour)) // seconds_in_minute\n",
    "\n",
    "    return int(days)"
   ]
  },
  {
   "cell_type": "code",
   "execution_count": 4,
   "metadata": {},
   "outputs": [],
   "source": [
    "def convertTimeStamp(string):\n",
    "    \"\"\"Converts a string to a datetime object.\n",
    "    \"\"\"\n",
    "    time = datetime.strptime(string,'%m/%d/%Y %I:%M:%S %p') #Accepts time string, converts it to datetime object.\n",
    "    return time\n",
    "    \n",
    "def elapsedTime(filepath):\n",
    "    dataframe = pd.read_csv(filepath)\n",
    "    dataframe = dataframe.dropna()\n",
    "    \n",
    "    #filter dateset to CreatedDate and ServiceDate columns\n",
    "    created_df = dataframe['CreatedDate'].dropna().apply(convertTimeStamp, 0) #apply convertTimeStamp to CreatedDate\n",
    "    Service_df = dataframe['ServiceDate'].dropna().apply(convertTimeStamp, 0) #apply convertTimeStamp to ServiceDate\n",
    "    \n",
    "    #create elapsedTime column\n",
    "    elapsed_df = Service_df - created_df #calculate the difference in the values in CreatedDate and ServiceDate\n",
    "    dataframe.insert(3, \"ElapsedTime\", elapsed_df) #create column ElapsedTime with dataframe elapsed_df into dataframe dataframe\n",
    "    \n",
    "    elapsed_seconds = dataframe['ElapsedTime'].dt.total_seconds()\n",
    "    elapsed_days = elapsed_seconds.apply(secToDays) #or display time 1 in a new column in for loop\n",
    "    dataframe.insert(5, 'ElapsedTime in Seconds', elapsed_seconds)\n",
    "    dataframe.insert(4, 'Elapsed Days', elapsed_days)\n",
    "    \n",
    "    df1 = dataframe[['CreatedDate', 'ServiceDate', 'ElapsedTime']]\n",
    "\n",
    "    dataframe.hist(column='Elapsed Days', figsize=(11.7,8.27), range=[0, 7])\n",
    "    plt.title('Distribution of Elapsed Days (0-7 Days)')\n",
    "    plt.xlabel('Elapsed Days')\n",
    "    plt.ylabel('Service Requests')\n",
    "    \n",
    "    dataframe.hist(column='Elapsed Days', figsize=(11.7,8.27), range=[8, max(elapsed_days)])\n",
    "    plt.title('Distribution of Elapsed Days (8+ Days)')\n",
    "    plt.xlabel('Elapsed Days')\n",
    "    plt.ylabel('Service Requests')\n",
    "    \n",
    "    return df1"
   ]
  },
  {
   "cell_type": "code",
   "execution_count": 5,
   "metadata": {},
   "outputs": [
    {
     "name": "stderr",
     "output_type": "stream",
     "text": [
      "C:\\Users\\hanaa\\Anaconda3\\lib\\site-packages\\IPython\\core\\interactiveshell.py:3249: DtypeWarning: Columns (25) have mixed types. Specify dtype option on import or set low_memory=False.\n",
      "  if (await self.run_code(code, result,  async_=asy)):\n"
     ]
    },
    {
     "data": {
      "text/html": [
       "<div>\n",
       "<style scoped>\n",
       "    .dataframe tbody tr th:only-of-type {\n",
       "        vertical-align: middle;\n",
       "    }\n",
       "\n",
       "    .dataframe tbody tr th {\n",
       "        vertical-align: top;\n",
       "    }\n",
       "\n",
       "    .dataframe thead th {\n",
       "        text-align: right;\n",
       "    }\n",
       "</style>\n",
       "<table border=\"1\" class=\"dataframe\">\n",
       "  <thead>\n",
       "    <tr style=\"text-align: right;\">\n",
       "      <th></th>\n",
       "      <th>CreatedDate</th>\n",
       "      <th>ServiceDate</th>\n",
       "      <th>ElapsedTime</th>\n",
       "    </tr>\n",
       "  </thead>\n",
       "  <tbody>\n",
       "    <tr>\n",
       "      <td>6</td>\n",
       "      <td>01/01/2019 12:37:00 AM</td>\n",
       "      <td>04/02/2019 02:37:00 PM</td>\n",
       "      <td>91 days 14:00:00</td>\n",
       "    </tr>\n",
       "    <tr>\n",
       "      <td>17</td>\n",
       "      <td>01/01/2019 01:19:00 AM</td>\n",
       "      <td>06/04/2019 12:00:00 AM</td>\n",
       "      <td>153 days 22:41:00</td>\n",
       "    </tr>\n",
       "    <tr>\n",
       "      <td>32</td>\n",
       "      <td>01/01/2019 02:43:00 AM</td>\n",
       "      <td>01/02/2019 04:10:00 PM</td>\n",
       "      <td>1 days 13:27:00</td>\n",
       "    </tr>\n",
       "    <tr>\n",
       "      <td>39</td>\n",
       "      <td>01/01/2019 03:56:00 AM</td>\n",
       "      <td>04/02/2019 02:27:00 PM</td>\n",
       "      <td>91 days 10:31:00</td>\n",
       "    </tr>\n",
       "    <tr>\n",
       "      <td>42</td>\n",
       "      <td>01/01/2019 06:53:00 AM</td>\n",
       "      <td>01/02/2019 09:56:00 AM</td>\n",
       "      <td>1 days 03:03:00</td>\n",
       "    </tr>\n",
       "    <tr>\n",
       "      <td>...</td>\n",
       "      <td>...</td>\n",
       "      <td>...</td>\n",
       "      <td>...</td>\n",
       "    </tr>\n",
       "    <tr>\n",
       "      <td>1308068</td>\n",
       "      <td>12/31/2019 10:12:00 PM</td>\n",
       "      <td>01/02/2020 12:00:00 AM</td>\n",
       "      <td>1 days 01:48:00</td>\n",
       "    </tr>\n",
       "    <tr>\n",
       "      <td>1308083</td>\n",
       "      <td>12/31/2019 11:11:00 PM</td>\n",
       "      <td>01/18/2020 10:13:00 AM</td>\n",
       "      <td>17 days 11:02:00</td>\n",
       "    </tr>\n",
       "    <tr>\n",
       "      <td>1308084</td>\n",
       "      <td>12/31/2019 11:13:00 PM</td>\n",
       "      <td>01/02/2020 03:20:00 PM</td>\n",
       "      <td>1 days 16:07:00</td>\n",
       "    </tr>\n",
       "    <tr>\n",
       "      <td>1308086</td>\n",
       "      <td>12/31/2019 11:19:00 PM</td>\n",
       "      <td>01/02/2020 03:17:00 PM</td>\n",
       "      <td>1 days 15:58:00</td>\n",
       "    </tr>\n",
       "    <tr>\n",
       "      <td>1308087</td>\n",
       "      <td>12/31/2019 11:25:00 PM</td>\n",
       "      <td>01/17/2020 12:00:00 AM</td>\n",
       "      <td>16 days 00:35:00</td>\n",
       "    </tr>\n",
       "  </tbody>\n",
       "</table>\n",
       "<p>80467 rows × 3 columns</p>\n",
       "</div>"
      ],
      "text/plain": [
       "                    CreatedDate             ServiceDate       ElapsedTime\n",
       "6        01/01/2019 12:37:00 AM  04/02/2019 02:37:00 PM  91 days 14:00:00\n",
       "17       01/01/2019 01:19:00 AM  06/04/2019 12:00:00 AM 153 days 22:41:00\n",
       "32       01/01/2019 02:43:00 AM  01/02/2019 04:10:00 PM   1 days 13:27:00\n",
       "39       01/01/2019 03:56:00 AM  04/02/2019 02:27:00 PM  91 days 10:31:00\n",
       "42       01/01/2019 06:53:00 AM  01/02/2019 09:56:00 AM   1 days 03:03:00\n",
       "...                         ...                     ...               ...\n",
       "1308068  12/31/2019 10:12:00 PM  01/02/2020 12:00:00 AM   1 days 01:48:00\n",
       "1308083  12/31/2019 11:11:00 PM  01/18/2020 10:13:00 AM  17 days 11:02:00\n",
       "1308084  12/31/2019 11:13:00 PM  01/02/2020 03:20:00 PM   1 days 16:07:00\n",
       "1308086  12/31/2019 11:19:00 PM  01/02/2020 03:17:00 PM   1 days 15:58:00\n",
       "1308087  12/31/2019 11:25:00 PM  01/17/2020 12:00:00 AM  16 days 00:35:00\n",
       "\n",
       "[80467 rows x 3 columns]"
      ]
     },
     "execution_count": 5,
     "metadata": {},
     "output_type": "execute_result"
    },
    {
     "data": {
      "image/png": "[encoded data removed]",
      "text/plain": [
       "<Figure size 842.4x595.44 with 1 Axes>"
      ]
     },
     "metadata": {
      "needs_background": "light"
     },
     "output_type": "display_data"
    },
    {
     "data": {
      "image/png": "[encoded data removed]",
      "text/plain": [
       "<Figure size 842.4x595.44 with 1 Axes>"
      ]
     },
     "metadata": {
      "needs_background": "light"
     },
     "output_type": "display_data"
    }
   ],
   "source": [
    "elapsedTime(r\"C:\\Users\\hanaa\\Downloads\\MyLA311_Service_Request_Data_2019.csv\")"
   ]
  },
  {
   "cell_type": "code",
   "execution_count": 6,
   "metadata": {},
   "outputs": [
    {
     "name": "stderr",
     "output_type": "stream",
     "text": [
      "C:\\Users\\hanaa\\Anaconda3\\lib\\site-packages\\IPython\\core\\interactiveshell.py:3249: DtypeWarning: Columns (20) have mixed types. Specify dtype option on import or set low_memory=False.\n",
      "  if (await self.run_code(code, result,  async_=asy)):\n"
     ]
    },
    {
     "data": {
      "text/html": [
       "<div>\n",
       "<style scoped>\n",
       "    .dataframe tbody tr th:only-of-type {\n",
       "        vertical-align: middle;\n",
       "    }\n",
       "\n",
       "    .dataframe tbody tr th {\n",
       "        vertical-align: top;\n",
       "    }\n",
       "\n",
       "    .dataframe thead th {\n",
       "        text-align: right;\n",
       "    }\n",
       "</style>\n",
       "<table border=\"1\" class=\"dataframe\">\n",
       "  <thead>\n",
       "    <tr style=\"text-align: right;\">\n",
       "      <th></th>\n",
       "      <th>CreatedDate</th>\n",
       "      <th>ServiceDate</th>\n",
       "      <th>ElapsedTime</th>\n",
       "    </tr>\n",
       "  </thead>\n",
       "  <tbody>\n",
       "    <tr>\n",
       "      <td>13</td>\n",
       "      <td>01/01/2018 01:31:00 AM</td>\n",
       "      <td>01/02/2018 08:41:00 AM</td>\n",
       "      <td>1 days 07:10:00</td>\n",
       "    </tr>\n",
       "    <tr>\n",
       "      <td>14</td>\n",
       "      <td>01/01/2018 01:32:00 AM</td>\n",
       "      <td>01/02/2018 10:49:00 AM</td>\n",
       "      <td>1 days 09:17:00</td>\n",
       "    </tr>\n",
       "    <tr>\n",
       "      <td>15</td>\n",
       "      <td>01/01/2018 01:34:00 AM</td>\n",
       "      <td>01/02/2018 04:58:00 PM</td>\n",
       "      <td>1 days 15:24:00</td>\n",
       "    </tr>\n",
       "    <tr>\n",
       "      <td>17</td>\n",
       "      <td>01/01/2018 01:43:00 AM</td>\n",
       "      <td>01/02/2018 04:57:00 PM</td>\n",
       "      <td>1 days 15:14:00</td>\n",
       "    </tr>\n",
       "    <tr>\n",
       "      <td>18</td>\n",
       "      <td>01/01/2018 01:50:00 AM</td>\n",
       "      <td>03/12/2018 12:00:00 AM</td>\n",
       "      <td>69 days 22:10:00</td>\n",
       "    </tr>\n",
       "    <tr>\n",
       "      <td>...</td>\n",
       "      <td>...</td>\n",
       "      <td>...</td>\n",
       "      <td>...</td>\n",
       "    </tr>\n",
       "    <tr>\n",
       "      <td>1209998</td>\n",
       "      <td>12/31/2018 08:20:00 PM</td>\n",
       "      <td>01/05/2019 12:00:00 AM</td>\n",
       "      <td>4 days 03:40:00</td>\n",
       "    </tr>\n",
       "    <tr>\n",
       "      <td>1210005</td>\n",
       "      <td>12/31/2018 08:51:00 PM</td>\n",
       "      <td>01/03/2019 02:30:00 PM</td>\n",
       "      <td>2 days 17:39:00</td>\n",
       "    </tr>\n",
       "    <tr>\n",
       "      <td>1210006</td>\n",
       "      <td>12/31/2018 08:55:00 PM</td>\n",
       "      <td>01/09/2019 08:05:00 AM</td>\n",
       "      <td>8 days 11:10:00</td>\n",
       "    </tr>\n",
       "    <tr>\n",
       "      <td>1210021</td>\n",
       "      <td>12/31/2018 09:48:00 PM</td>\n",
       "      <td>01/03/2019 12:00:00 AM</td>\n",
       "      <td>2 days 02:12:00</td>\n",
       "    </tr>\n",
       "    <tr>\n",
       "      <td>1210061</td>\n",
       "      <td>12/31/2018 10:50:00 PM</td>\n",
       "      <td>01/03/2019 12:00:00 AM</td>\n",
       "      <td>2 days 01:10:00</td>\n",
       "    </tr>\n",
       "  </tbody>\n",
       "</table>\n",
       "<p>60954 rows × 3 columns</p>\n",
       "</div>"
      ],
      "text/plain": [
       "                    CreatedDate             ServiceDate      ElapsedTime\n",
       "13       01/01/2018 01:31:00 AM  01/02/2018 08:41:00 AM  1 days 07:10:00\n",
       "14       01/01/2018 01:32:00 AM  01/02/2018 10:49:00 AM  1 days 09:17:00\n",
       "15       01/01/2018 01:34:00 AM  01/02/2018 04:58:00 PM  1 days 15:24:00\n",
       "17       01/01/2018 01:43:00 AM  01/02/2018 04:57:00 PM  1 days 15:14:00\n",
       "18       01/01/2018 01:50:00 AM  03/12/2018 12:00:00 AM 69 days 22:10:00\n",
       "...                         ...                     ...              ...\n",
       "1209998  12/31/2018 08:20:00 PM  01/05/2019 12:00:00 AM  4 days 03:40:00\n",
       "1210005  12/31/2018 08:51:00 PM  01/03/2019 02:30:00 PM  2 days 17:39:00\n",
       "1210006  12/31/2018 08:55:00 PM  01/09/2019 08:05:00 AM  8 days 11:10:00\n",
       "1210021  12/31/2018 09:48:00 PM  01/03/2019 12:00:00 AM  2 days 02:12:00\n",
       "1210061  12/31/2018 10:50:00 PM  01/03/2019 12:00:00 AM  2 days 01:10:00\n",
       "\n",
       "[60954 rows x 3 columns]"
      ]
     },
     "execution_count": 6,
     "metadata": {},
     "output_type": "execute_result"
    },
    {
     "data": {
      "image/png": "[encoded data removed]",
      "text/plain": [
       "<Figure size 842.4x595.44 with 1 Axes>"
      ]
     },
     "metadata": {
      "needs_background": "light"
     },
     "output_type": "display_data"
    },
    {
     "data": {
      "image/png": "[encoded data removed]",
      "text/plain": [
       "<Figure size 842.4x595.44 with 1 Axes>"
      ]
     },
     "metadata": {
      "needs_background": "light"
     },
     "output_type": "display_data"
    }
   ],
   "source": [
    "elapsedTime(r\"C:\\Users\\hanaa\\Downloads\\MyLA311_Service_Request_Data_2018.csv\")"
   ]
  },
  {
   "cell_type": "code",
   "execution_count": 7,
   "metadata": {},
   "outputs": [
    {
     "data": {
      "text/html": [
       "<div>\n",
       "<style scoped>\n",
       "    .dataframe tbody tr th:only-of-type {\n",
       "        vertical-align: middle;\n",
       "    }\n",
       "\n",
       "    .dataframe tbody tr th {\n",
       "        vertical-align: top;\n",
       "    }\n",
       "\n",
       "    .dataframe thead th {\n",
       "        text-align: right;\n",
       "    }\n",
       "</style>\n",
       "<table border=\"1\" class=\"dataframe\">\n",
       "  <thead>\n",
       "    <tr style=\"text-align: right;\">\n",
       "      <th></th>\n",
       "      <th>CreatedDate</th>\n",
       "      <th>ServiceDate</th>\n",
       "      <th>ElapsedTime</th>\n",
       "    </tr>\n",
       "  </thead>\n",
       "  <tbody>\n",
       "    <tr>\n",
       "      <td>25</td>\n",
       "      <td>12/31/2017 09:51:00 PM</td>\n",
       "      <td>01/03/2018 04:16:00 PM</td>\n",
       "      <td>2 days 18:25:00</td>\n",
       "    </tr>\n",
       "    <tr>\n",
       "      <td>34</td>\n",
       "      <td>12/31/2017 09:18:00 PM</td>\n",
       "      <td>01/02/2018 02:23:00 PM</td>\n",
       "      <td>1 days 17:05:00</td>\n",
       "    </tr>\n",
       "    <tr>\n",
       "      <td>37</td>\n",
       "      <td>12/31/2017 09:14:00 PM</td>\n",
       "      <td>01/03/2018 08:47:00 AM</td>\n",
       "      <td>2 days 11:33:00</td>\n",
       "    </tr>\n",
       "    <tr>\n",
       "      <td>38</td>\n",
       "      <td>12/31/2017 09:11:00 PM</td>\n",
       "      <td>01/02/2018 02:11:00 PM</td>\n",
       "      <td>1 days 17:00:00</td>\n",
       "    </tr>\n",
       "    <tr>\n",
       "      <td>39</td>\n",
       "      <td>12/31/2017 09:09:00 PM</td>\n",
       "      <td>01/02/2018 02:20:00 PM</td>\n",
       "      <td>1 days 17:11:00</td>\n",
       "    </tr>\n",
       "    <tr>\n",
       "      <td>...</td>\n",
       "      <td>...</td>\n",
       "      <td>...</td>\n",
       "      <td>...</td>\n",
       "    </tr>\n",
       "    <tr>\n",
       "      <td>1131547</td>\n",
       "      <td>01/01/2017 01:55:00 AM</td>\n",
       "      <td>01/04/2017 09:53:00 AM</td>\n",
       "      <td>3 days 07:58:00</td>\n",
       "    </tr>\n",
       "    <tr>\n",
       "      <td>1131552</td>\n",
       "      <td>01/01/2017 01:16:00 AM</td>\n",
       "      <td>01/03/2017 06:54:00 PM</td>\n",
       "      <td>2 days 17:38:00</td>\n",
       "    </tr>\n",
       "    <tr>\n",
       "      <td>1131553</td>\n",
       "      <td>01/01/2017 01:09:00 AM</td>\n",
       "      <td>01/04/2017 10:33:00 AM</td>\n",
       "      <td>3 days 09:24:00</td>\n",
       "    </tr>\n",
       "    <tr>\n",
       "      <td>1131554</td>\n",
       "      <td>01/01/2017 01:01:00 AM</td>\n",
       "      <td>01/04/2017 09:22:00 AM</td>\n",
       "      <td>3 days 08:21:00</td>\n",
       "    </tr>\n",
       "    <tr>\n",
       "      <td>1131556</td>\n",
       "      <td>01/01/2017 12:45:00 AM</td>\n",
       "      <td>01/12/2017 05:09:00 PM</td>\n",
       "      <td>11 days 16:24:00</td>\n",
       "    </tr>\n",
       "  </tbody>\n",
       "</table>\n",
       "<p>50759 rows × 3 columns</p>\n",
       "</div>"
      ],
      "text/plain": [
       "                    CreatedDate             ServiceDate      ElapsedTime\n",
       "25       12/31/2017 09:51:00 PM  01/03/2018 04:16:00 PM  2 days 18:25:00\n",
       "34       12/31/2017 09:18:00 PM  01/02/2018 02:23:00 PM  1 days 17:05:00\n",
       "37       12/31/2017 09:14:00 PM  01/03/2018 08:47:00 AM  2 days 11:33:00\n",
       "38       12/31/2017 09:11:00 PM  01/02/2018 02:11:00 PM  1 days 17:00:00\n",
       "39       12/31/2017 09:09:00 PM  01/02/2018 02:20:00 PM  1 days 17:11:00\n",
       "...                         ...                     ...              ...\n",
       "1131547  01/01/2017 01:55:00 AM  01/04/2017 09:53:00 AM  3 days 07:58:00\n",
       "1131552  01/01/2017 01:16:00 AM  01/03/2017 06:54:00 PM  2 days 17:38:00\n",
       "1131553  01/01/2017 01:09:00 AM  01/04/2017 10:33:00 AM  3 days 09:24:00\n",
       "1131554  01/01/2017 01:01:00 AM  01/04/2017 09:22:00 AM  3 days 08:21:00\n",
       "1131556  01/01/2017 12:45:00 AM  01/12/2017 05:09:00 PM 11 days 16:24:00\n",
       "\n",
       "[50759 rows x 3 columns]"
      ]
     },
     "execution_count": 7,
     "metadata": {},
     "output_type": "execute_result"
    },
    {
     "data": {
      "image/png": "[encoded data removed]",
      "text/plain": [
       "<Figure size 842.4x595.44 with 1 Axes>"
      ]
     },
     "metadata": {
      "needs_background": "light"
     },
     "output_type": "display_data"
    },
    {
     "data": {
      "image/png": "[encoded data removed]",
      "text/plain": [
       "<Figure size 842.4x595.44 with 1 Axes>"
      ]
     },
     "metadata": {
      "needs_background": "light"
     },
     "output_type": "display_data"
    }
   ],
   "source": [
    "elapsedTime(r\"C:\\Users\\hanaa\\Downloads\\MyLA311_Service_Request_Data_2017.csv\")"
   ]
  }
 ],
 "metadata": {
  "kernelspec": {
   "display_name": "Python 3",
   "language": "python",
   "name": "python3"
  },
  "language_info": {
   "codemirror_mode": {
    "name": "ipython",
    "version": 3
   },
   "file_extension": ".py",
   "mimetype": "text/x-python",
   "name": "python",
   "nbconvert_exporter": "python",
   "pygments_lexer": "ipython3",
   "version": "3.7.4"
  }
 },
 "nbformat": 4,
 "nbformat_minor": 4
}
