{
 "cells": [
  {
   "cell_type": "code",
   "execution_count": 1,
   "metadata": {},
   "outputs": [],
   "source": [
    "# Import libraries\n",
    "import dataset2020 #Our custom code with the pipeline, elapsed time function, etc.\n",
    "import numpy as np\n",
    "import pandas as pd\n",
    "import matplotlib.pyplot as plt\n",
    "from matplotlib.pyplot import figure\n",
    "from datetime import datetime\n",
    "import seaborn as sns\n",
    "from scipy import stats"
   ]
  },
  {
   "cell_type": "code",
   "execution_count": 2,
   "metadata": {},
   "outputs": [
    {
     "name": "stderr",
     "output_type": "stream",
     "text": [
      "C:\\Users\\hanaa\\Anaconda3\\lib\\site-packages\\IPython\\core\\interactiveshell.py:3249: DtypeWarning: Columns (20,24) have mixed types. Specify dtype option on import or set low_memory=False.\n",
      "  if (await self.run_code(code, result,  async_=asy)):\n",
      "C:\\Users\\hanaa\\P-ai\\F20 - COVID EDA\\dataset2020.py:49: SettingWithCopyWarning: \n",
      "A value is trying to be set on a copy of a slice from a DataFrame.\n",
      "Try using .loc[row_indexer,col_indexer] = value instead\n",
      "\n",
      "See the caveats in the documentation: http://pandas.pydata.org/pandas-docs/stable/user_guide/indexing.html#returning-a-view-versus-a-copy\n",
      "  hdf['ElapsedTime'] = df1 - df2\n",
      "C:\\Users\\hanaa\\P-ai\\F20 - COVID EDA\\dataset2020.py:50: SettingWithCopyWarning: \n",
      "A value is trying to be set on a copy of a slice from a DataFrame.\n",
      "Try using .loc[row_indexer,col_indexer] = value instead\n",
      "\n",
      "See the caveats in the documentation: http://pandas.pydata.org/pandas-docs/stable/user_guide/indexing.html#returning-a-view-versus-a-copy\n",
      "  hdf['ElapsedTime'] = hdf['ElapsedTime']/np.timedelta64(1,'m')\n",
      "C:\\Users\\hanaa\\P-ai\\F20 - COVID EDA\\dataset2020.py:51: SettingWithCopyWarning: \n",
      "A value is trying to be set on a copy of a slice from a DataFrame.\n",
      "Try using .loc[row_indexer,col_indexer] = value instead\n",
      "\n",
      "See the caveats in the documentation: http://pandas.pydata.org/pandas-docs/stable/user_guide/indexing.html#returning-a-view-versus-a-copy\n",
      "  hdf['ElapsedTime'] = hdf['ElapsedTime'].apply(convertFromSeconds, 0)\n",
      "C:\\Users\\hanaa\\P-ai\\F20 - COVID EDA\\dataset2020.py:56: SettingWithCopyWarning: \n",
      "A value is trying to be set on a copy of a slice from a DataFrame.\n",
      "Try using .loc[row_indexer,col_indexer] = value instead\n",
      "\n",
      "See the caveats in the documentation: http://pandas.pydata.org/pandas-docs/stable/user_guide/indexing.html#returning-a-view-versus-a-copy\n",
      "  hdf['ElapsedDays'] = (df4 - df3).dt.days\n",
      "C:\\Users\\hanaa\\P-ai\\F20 - COVID EDA\\dataset2020.py:59: SettingWithCopyWarning: \n",
      "A value is trying to be set on a copy of a slice from a DataFrame.\n",
      "Try using .loc[row_indexer,col_indexer] = value instead\n",
      "\n",
      "See the caveats in the documentation: http://pandas.pydata.org/pandas-docs/stable/user_guide/indexing.html#returning-a-view-versus-a-copy\n",
      "  hdf['Just Date'] = df3\n"
     ]
    }
   ],
   "source": [
    "# Import MyLA311 2018 data\n",
    "df = dataset2020.cleaned_df(r'C:\\Users\\hanaa\\Downloads\\MyLA311_Service_Request_Data_2018.csv') "
   ]
  },
  {
   "cell_type": "markdown",
   "metadata": {},
   "source": [
    "## Separate out data from March-October"
   ]
  },
  {
   "cell_type": "code",
   "execution_count": 3,
   "metadata": {},
   "outputs": [
    {
     "data": {
      "text/plain": [
       "0           1\n",
       "1           1\n",
       "2           1\n",
       "3           1\n",
       "4           1\n",
       "           ..\n",
       "1209177    12\n",
       "1209178    12\n",
       "1209179    12\n",
       "1209180    12\n",
       "1209181    12\n",
       "Name: month, Length: 1208738, dtype: int64"
      ]
     },
     "execution_count": 3,
     "metadata": {},
     "output_type": "execute_result"
    }
   ],
   "source": [
    "df['month'] = pd.DatetimeIndex(df['CreatedDate']).month # Create month column with value 1-12 representing CreatedDate month\n",
    "df['month']"
   ]
  },
  {
   "cell_type": "code",
   "execution_count": 10,
   "metadata": {},
   "outputs": [
    {
     "data": {
      "text/plain": [
       "186637      3\n",
       "186638      3\n",
       "186639      3\n",
       "186640      3\n",
       "186641      3\n",
       "           ..\n",
       "1026474    10\n",
       "1026475    10\n",
       "1026476    10\n",
       "1026477    10\n",
       "1026478    10\n",
       "Name: month, Length: 839577, dtype: int64"
      ]
     },
     "execution_count": 10,
     "metadata": {},
     "output_type": "execute_result"
    }
   ],
   "source": [
    "df[(df['month'] >= 3) & (df['month'] <= 10)] # Limits dataset to months >= 3 (March) and months <= 10 (October)\n",
    "df['month']"
   ]
  },
  {
   "cell_type": "markdown",
   "metadata": {},
   "source": [
    "Converting column or objects to Datetime: https://www.interviewqs.com/ddi_code_snippets/extract_month_year_pandas"
   ]
  },
  {
   "cell_type": "markdown",
   "metadata": {},
   "source": [
    "# Histogram plots"
   ]
  },
  {
   "cell_type": "code",
   "execution_count": 5,
   "metadata": {},
   "outputs": [],
   "source": [
    "num_bins = len(df['month'].unique()) # Set bin number to the # of months (i.e. the number of unique values in the month col )"
   ]
  },
  {
   "cell_type": "markdown",
   "metadata": {},
   "source": [
    "## Plot histogram using Matplotlib"
   ]
  },
  {
   "cell_type": "code",
   "execution_count": 6,
   "metadata": {},
   "outputs": [
    {
     "data": {
      "text/plain": [
       "(array([ 97237.,  99398., 101525., 102052., 111762., 113729., 102697.,\n",
       "        111177.]),\n",
       " array([ 3.   ,  3.875,  4.75 ,  5.625,  6.5  ,  7.375,  8.25 ,  9.125,\n",
       "        10.   ]),\n",
       " <a list of 8 Patch objects>)"
      ]
     },
     "execution_count": 6,
     "metadata": {},
     "output_type": "execute_result"
    },
    {
     "data": {
      "image/png": "[encoded data removed]",
      "text/plain": [
       "<Figure size 864x504 with 1 Axes>"
      ]
     },
     "metadata": {
      "needs_background": "light"
     },
     "output_type": "display_data"
    }
   ],
   "source": [
    "# Matplotlib Historgram for 2018 Requests\n",
    "\n",
    "# Set plot size\n",
    "plt.figure(figsize=(12,7))\n",
    "\n",
    "# Add title and axis names\n",
    "plt.title('March-October 2018')\n",
    "plt.xlabel('month')\n",
    "plt.ylabel('# of requests')\n",
    "\n",
    "# Limits for the X axis -- start to end month\n",
    "plt.xlim(3,10) \n",
    "\n",
    "plt.hist(df['month'], bins=num_bins, edgecolor='black') "
   ]
  },
  {
   "cell_type": "markdown",
   "metadata": {},
   "source": [
    "Matplotlib histogram: https://matplotlib.org/3.3.1/api/_as_gen/matplotlib.pyplot.hist.html\n",
    "\n",
    "Formatting stuff: https://python-graph-gallery.com/4-add-title-and-axis-label/"
   ]
  },
  {
   "cell_type": "markdown",
   "metadata": {},
   "source": [
    "## Plot histogram using Pandas"
   ]
  },
  {
   "cell_type": "code",
   "execution_count": 7,
   "metadata": {},
   "outputs": [
    {
     "data": {
      "image/png": "[encoded data removed]",
      "text/plain": [
       "<Figure size 864x504 with 1 Axes>"
      ]
     },
     "metadata": {
      "needs_background": "light"
     },
     "output_type": "display_data"
    }
   ],
   "source": [
    "# Pandas Histogram for 2018 Requests\n",
    "\n",
    "# Add title and axis names\n",
    "plt.title('March-October 2018')\n",
    "plt.xlabel('month')\n",
    "plt.ylabel('# of requests')\n",
    "\n",
    "# Set x limits -- start to end month\n",
    "plt.xlim(3,10) \n",
    "\n",
    "hist = df['month'].hist(bins=num_bins, figsize=(12,7), edgecolor='Black') "
   ]
  },
  {
   "cell_type": "markdown",
   "metadata": {},
   "source": [
    "Pandas histogram documentation: https://pandas.pydata.org/pandas-docs/stable/reference/api/pandas.DataFrame.hist.html"
   ]
  }
 ],
 "metadata": {
  "kernelspec": {
   "display_name": "Python 3",
   "language": "python",
   "name": "python3"
  },
  "language_info": {
   "codemirror_mode": {
    "name": "ipython",
    "version": 3
   },
   "file_extension": ".py",
   "mimetype": "text/x-python",
   "name": "python",
   "nbconvert_exporter": "python",
   "pygments_lexer": "ipython3",
   "version": "3.7.4"
  }
 },
 "nbformat": 4,
 "nbformat_minor": 2
}
