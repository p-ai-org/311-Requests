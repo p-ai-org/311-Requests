{
 "cells": [
  {
   "cell_type": "code",
   "execution_count": 2,
   "metadata": {},
   "outputs": [],
   "source": [
    "import numpy as np\n",
    "import pandas as pd\n",
    "from datetime import datetime \n",
    "from datetime import timedelta\n",
    "import csv \n",
    "import matplotlib.pyplot as plt\n",
    "from datetime import date\n",
    "from datetime import time\n",
    "from sklearn.datasets import load_iris\n",
    "import matplotlib.dates as mdates\n",
    "from matplotlib.transforms import Transform\n",
    "from matplotlib.ticker import (\n",
    "    AutoLocator, AutoMinorLocator)\n",
    "import seaborn as sns\n",
    "from matplotlib import pyplot\n",
    "import collections\n",
    "import dataset2020"
   ]
  },
  {
   "cell_type": "code",
   "execution_count": 83,
   "metadata": {},
   "outputs": [
    {
     "name": "stderr",
     "output_type": "stream",
     "text": [
      "C:\\Users\\hanaa\\Anaconda3\\lib\\site-packages\\IPython\\core\\interactiveshell.py:3249: DtypeWarning: Columns (33,36) have mixed types. Specify dtype option on import or set low_memory=False.\n",
      "  if (await self.run_code(code, result,  async_=asy)):\n"
     ]
    },
    {
     "data": {
      "image/png": "[encoded data removed]",
      "text/plain": [
       "<Figure size 1080x504 with 1 Axes>"
      ]
     },
     "metadata": {
      "needs_background": "light"
     },
     "output_type": "display_data"
    }
   ],
   "source": [
    "df = dataset2020.cleaned_df(r\"C:\\Users\\hanaa\\Downloads\\cleaned_MyLA311_Service_Request_Data_2020.csv\")\n",
    "df = df[df.ElapsedDays >= 0]\n",
    "boxplot = df.boxplot(column=['ElapsedDays'], figsize=(15,7))\n",
    "#ax.set_xlabel('Elapsed Days')\n",
    "#ax.set_ylabel('# of Requests')"
   ]
  },
  {
   "cell_type": "code",
   "execution_count": 69,
   "metadata": {},
   "outputs": [],
   "source": [
    "\"\"\"#group requests by range of ranges of elapsed days\n",
    "df1 = df[df.ElapsedDays <= 7]\n",
    "df2 = df[(df.ElapsedDays > 7) & (df.ElapsedDays <= 30)]\n",
    "df3 = df[(df.ElapsedDays > 30) & (df.ElapsedDays <= 90)]\n",
    "df4 = df[(df.ElapsedDays > 90)]\"\"\""
   ]
  },
  {
   "cell_type": "code",
   "execution_count": 33,
   "metadata": {},
   "outputs": [],
   "source": [
    "# Accepts 311 dataset, groups requests that were closed within a week into categories of 0-7, 8-30, 31-90, 91+ days \n",
    "# returns a dictionary where the keys are the day ranges and the values are the lists of days\n",
    "def days_analysis(filepath):   \n",
    "    \"\"\"Calculates elapsed day distributions\"\"\"\n",
    "    df = dataset2020.cleaned_df(filepath)\n",
    "\n",
    "    dict_ECT = dict()\n",
    "    isWeek, isMonth, is3Months, isGreater = [],[],[],[]\n",
    "    for days in df['ElapsedDays']:\n",
    "        if (days >= 0) and (days <= 7):\n",
    "            isWeek.append(days)\n",
    "        elif (days > 7)  & (days <= 30):\n",
    "            isMonth.append(days)\n",
    "        elif (days > 30) & (days <= 90):\n",
    "            is3Months.append(days)\n",
    "        elif (days > 90):\n",
    "            isGreater.append(days)\n",
    "    \n",
    "    \n",
    "    dict_ECT['0-7'] = isWeek\n",
    "    dict_ECT['8-30'] = isMonth\n",
    "    dict_ECT['31-90'] = is3Months\n",
    "    dict_ECT['91+'] = isGreater\n",
    "    \n",
    "    return dict_ECT"
   ]
  },
  {
   "cell_type": "code",
   "execution_count": 34,
   "metadata": {},
   "outputs": [
    {
     "name": "stderr",
     "output_type": "stream",
     "text": [
      "C:\\Users\\hanaa\\Anaconda3\\lib\\site-packages\\IPython\\core\\interactiveshell.py:3326: DtypeWarning: Columns (33,36) have mixed types. Specify dtype option on import or set low_memory=False.\n",
      "  exec(code_obj, self.user_global_ns, self.user_ns)\n"
     ]
    }
   ],
   "source": [
    "dict_2020 = days_analysis(r\"C:\\Users\\hanaa\\Downloads\\cleaned_MyLA311_Service_Request_Data_2020.csv\")"
   ]
  },
  {
   "cell_type": "code",
   "execution_count": 91,
   "metadata": {},
   "outputs": [
    {
     "data": {
      "image/png": "[encoded data removed]",
      "text/plain": [
       "<Figure size 432x288 with 1 Axes>"
      ]
     },
     "metadata": {
      "needs_background": "light"
     },
     "output_type": "display_data"
    }
   ],
   "source": [
    "fig, ax = plt.subplots()\n",
    "\n",
    "# build a box plot\n",
    "ax.boxplot(list(dict_2020.values()))\n",
    "\n",
    "# title and axis labels\n",
    "ax.set_title('elapsed days')\n",
    "ax.set_xlabel('# of days')\n",
    "#ax.set_ylabel('# of requests')\n",
    "xticklabels=['0-7', '8-30', '31-90', '91+']\n",
    "ax.set_xticklabels(xticklabels)\n",
    "\n",
    "\n",
    "# add horizontal grid lines\n",
    "ax.yaxis.grid(True)\n",
    "\n",
    "# show the plot\n",
    "plt.show()"
   ]
  },
  {
   "cell_type": "code",
   "execution_count": 35,
   "metadata": {},
   "outputs": [],
   "source": [
    "plt.close()"
   ]
  },
  {
   "cell_type": "markdown",
   "metadata": {},
   "source": [
    "# Breakdown 0-3 days and 4-7 days"
   ]
  },
  {
   "cell_type": "code",
   "execution_count": 74,
   "metadata": {},
   "outputs": [],
   "source": [
    "# Accepts 311 dataset, groups requests that were closed within a week into categories of 0-3 days and 4-7 days\n",
    "# returns a dictionary where the keys are the day ranges and the values are the lists of days\n",
    "def week_analysis(filepath):   \n",
    "    \"\"\"Calculates elapsed day distributions\"\"\"\n",
    "    df = dataset2020.cleaned_df(filepath)\n",
    "\n",
    "    dict_ECT = dict()\n",
    "    zeroToThree, fourToSeven = [],[]\n",
    "    for days in df['ElapsedDays']:\n",
    "        if (days >= 0) & (days < 4):\n",
    "            zeroToThree.append(days)\n",
    "        elif (days >= 4)  & (days <= 7):\n",
    "            fourToSeven.append(days)\n",
    "    \n",
    "    \n",
    "    dict_ECT['0-3'] = zeroToThree\n",
    "    dict_ECT['4-7'] = fourToSeven\n",
    "    \n",
    "    return dict_ECT"
   ]
  },
  {
   "cell_type": "code",
   "execution_count": 75,
   "metadata": {},
   "outputs": [
    {
     "name": "stderr",
     "output_type": "stream",
     "text": [
      "C:\\Users\\hanaa\\Anaconda3\\lib\\site-packages\\IPython\\core\\interactiveshell.py:3326: DtypeWarning: Columns (33,36) have mixed types. Specify dtype option on import or set low_memory=False.\n",
      "  exec(code_obj, self.user_global_ns, self.user_ns)\n"
     ]
    }
   ],
   "source": [
    "dict_week_2020 = week_analysis(r\"C:\\Users\\hanaa\\Downloads\\cleaned_MyLA311_Service_Request_Data_2020.csv\")"
   ]
  },
  {
   "cell_type": "code",
   "execution_count": 80,
   "metadata": {},
   "outputs": [
    {
     "data": {
      "image/png": "[encoded data removed]",
      "text/plain": [
       "<Figure size 432x288 with 1 Axes>"
      ]
     },
     "metadata": {
      "needs_background": "light"
     },
     "output_type": "display_data"
    }
   ],
   "source": [
    "fig1, ax1 = plt.subplots()\n",
    "\n",
    "# build a box plot\n",
    "ax1.boxplot(list(dict_week_2020.values()), figsize=(15,7))\n",
    "\n",
    "# title and axis labels\n",
    "ax1.set_title('elapsed days (within a week)')\n",
    "ax1.set_xlabel('# of days')\n",
    "#ax1.set_ylabel('# of requests')\n",
    "xticklabels=['0-3', '4-7']\n",
    "ax1.set_xticklabels(xticklabels)\n",
    "\n",
    "\n",
    "# add horizontal grid lines\n",
    "ax1.yaxis.grid(True)\n",
    "\n",
    "\n",
    "# show the plot\n",
    "plt.show()"
   ]
  },
  {
   "cell_type": "code",
   "execution_count": null,
   "metadata": {},
   "outputs": [],
   "source": []
  }
 ],
 "metadata": {
  "kernelspec": {
   "display_name": "Python 3",
   "language": "python",
   "name": "python3"
  },
  "language_info": {
   "codemirror_mode": {
    "name": "ipython",
    "version": 3
   },
   "file_extension": ".py",
   "mimetype": "text/x-python",
   "name": "python",
   "nbconvert_exporter": "python",
   "pygments_lexer": "ipython3",
   "version": "3.7.4"
  }
 },
 "nbformat": 4,
 "nbformat_minor": 2
}
